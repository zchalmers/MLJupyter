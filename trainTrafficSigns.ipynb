{
 "cells": [
  {
   "cell_type": "code",
   "execution_count": 7,
   "id": "7921cd7a-706b-4854-ae3e-c3111acdb16f",
   "metadata": {},
   "outputs": [
    {
     "name": "stdout",
     "output_type": "stream",
     "text": [
      "loading Roboflow workspace...\n",
      "loading Roboflow project...\n",
      "Dataset directory contents:\n",
      "['data.yaml', 'README.dataset.txt', 'README.roboflow.txt', 'test', 'train', 'valid']\n"
     ]
    }
   ],
   "source": [
    "import cv2\n",
    "import os \n",
    "from roboflow import Roboflow\n",
    "from ultralytics import YOLO\n",
    "import pyautogui\n",
    "import numpy as np\n",
    "rf = Roboflow(api_key=\"UoydIUTzAxJSpDUqxcnM\")\n",
    "project = rf.workspace(\"sandbox-berpo\").project(\"sandbox-z8ocu\")\n",
    "version = project.version(1)\n",
    "dataset = version.download(\"yolov8\")\n",
    "\n",
    "\n",
    "print(\"Dataset directory contents:\")\n",
    "print(os.listdir(dataset.location))"
   ]
  },
  {
   "cell_type": "code",
   "execution_count": 3,
   "id": "e00e6ae6-86bf-400b-afbf-229f9047da56",
   "metadata": {},
   "outputs": [
    {
     "name": "stdout",
     "output_type": "stream",
     "text": [
      "Ultralytics 8.3.59  Python-3.12.8 torch-2.5.1 CPU (AMD Ryzen 5 7530U with Radeon Graphics)\n",
      "\u001b[34m\u001b[1mengine\\trainer: \u001b[0mtask=detect, mode=train, model=yolov8n.pt, data=C:\\Users\\zchal\\SandBox-1/data.yaml, epochs=10, time=None, patience=100, batch=16, imgsz=640, save=True, save_period=-1, cache=False, device=None, workers=8, project=None, name=train6, exist_ok=False, pretrained=True, optimizer=auto, verbose=True, seed=0, deterministic=True, single_cls=False, rect=False, cos_lr=False, close_mosaic=10, resume=False, amp=True, fraction=1.0, profile=False, freeze=None, multi_scale=False, overlap_mask=True, mask_ratio=4, dropout=0.0, val=True, split=val, save_json=False, save_hybrid=False, conf=None, iou=0.7, max_det=300, half=False, dnn=False, plots=True, source=None, vid_stride=1, stream_buffer=False, visualize=False, augment=False, agnostic_nms=False, classes=None, retina_masks=False, embed=None, show=False, save_frames=False, save_txt=False, save_conf=False, save_crop=False, show_labels=True, show_conf=True, show_boxes=True, line_width=None, format=torchscript, keras=False, optimize=False, int8=False, dynamic=False, simplify=True, opset=None, workspace=None, nms=False, lr0=0.01, lrf=0.01, momentum=0.937, weight_decay=0.0005, warmup_epochs=3.0, warmup_momentum=0.8, warmup_bias_lr=0.1, box=7.5, cls=0.5, dfl=1.5, pose=12.0, kobj=1.0, nbs=64, hsv_h=0.015, hsv_s=0.7, hsv_v=0.4, degrees=0.0, translate=0.1, scale=0.5, shear=0.0, perspective=0.0, flipud=0.0, fliplr=0.5, bgr=0.0, mosaic=1.0, mixup=0.0, copy_paste=0.0, copy_paste_mode=flip, auto_augment=randaugment, erasing=0.4, crop_fraction=1.0, cfg=None, tracker=botsort.yaml, save_dir=runs\\detect\\train6\n",
      "Overriding model.yaml nc=80 with nc=1\n",
      "\n",
      "                   from  n    params  module                                       arguments                     \n",
      "  0                  -1  1       464  ultralytics.nn.modules.conv.Conv             [3, 16, 3, 2]                 \n",
      "  1                  -1  1      4672  ultralytics.nn.modules.conv.Conv             [16, 32, 3, 2]                \n",
      "  2                  -1  1      7360  ultralytics.nn.modules.block.C2f             [32, 32, 1, True]             \n",
      "  3                  -1  1     18560  ultralytics.nn.modules.conv.Conv             [32, 64, 3, 2]                \n",
      "  4                  -1  2     49664  ultralytics.nn.modules.block.C2f             [64, 64, 2, True]             \n",
      "  5                  -1  1     73984  ultralytics.nn.modules.conv.Conv             [64, 128, 3, 2]               \n",
      "  6                  -1  2    197632  ultralytics.nn.modules.block.C2f             [128, 128, 2, True]           \n",
      "  7                  -1  1    295424  ultralytics.nn.modules.conv.Conv             [128, 256, 3, 2]              \n",
      "  8                  -1  1    460288  ultralytics.nn.modules.block.C2f             [256, 256, 1, True]           \n",
      "  9                  -1  1    164608  ultralytics.nn.modules.block.SPPF            [256, 256, 5]                 \n",
      " 10                  -1  1         0  torch.nn.modules.upsampling.Upsample         [None, 2, 'nearest']          \n",
      " 11             [-1, 6]  1         0  ultralytics.nn.modules.conv.Concat           [1]                           \n",
      " 12                  -1  1    148224  ultralytics.nn.modules.block.C2f             [384, 128, 1]                 \n",
      " 13                  -1  1         0  torch.nn.modules.upsampling.Upsample         [None, 2, 'nearest']          \n",
      " 14             [-1, 4]  1         0  ultralytics.nn.modules.conv.Concat           [1]                           \n",
      " 15                  -1  1     37248  ultralytics.nn.modules.block.C2f             [192, 64, 1]                  \n",
      " 16                  -1  1     36992  ultralytics.nn.modules.conv.Conv             [64, 64, 3, 2]                \n",
      " 17            [-1, 12]  1         0  ultralytics.nn.modules.conv.Concat           [1]                           \n",
      " 18                  -1  1    123648  ultralytics.nn.modules.block.C2f             [192, 128, 1]                 \n",
      " 19                  -1  1    147712  ultralytics.nn.modules.conv.Conv             [128, 128, 3, 2]              \n",
      " 20             [-1, 9]  1         0  ultralytics.nn.modules.conv.Concat           [1]                           \n",
      " 21                  -1  1    493056  ultralytics.nn.modules.block.C2f             [384, 256, 1]                 \n",
      " 22        [15, 18, 21]  1    751507  ultralytics.nn.modules.head.Detect           [1, [64, 128, 256]]           \n",
      "Model summary: 225 layers, 3,011,043 parameters, 3,011,027 gradients, 8.2 GFLOPs\n",
      "\n",
      "Transferred 319/355 items from pretrained weights\n",
      "Freezing layer 'model.22.dfl.conv.weight'\n"
     ]
    },
    {
     "name": "stderr",
     "output_type": "stream",
     "text": [
      "\u001b[34m\u001b[1mtrain: \u001b[0mScanning C:\\Users\\zchal\\SandBox-1\\train\\labels.cache... 243 images, 0 backgrounds, 0 corrupt: 100%|██████████| 2\u001b[0m\n",
      "\u001b[34m\u001b[1mval: \u001b[0mScanning C:\\Users\\zchal\\SandBox-1\\valid\\labels.cache... 13 images, 0 backgrounds, 0 corrupt: 100%|██████████| 13/1\u001b[0m\n"
     ]
    },
    {
     "name": "stdout",
     "output_type": "stream",
     "text": [
      "Plotting labels to runs\\detect\\train6\\labels.jpg... \n",
      "\u001b[34m\u001b[1moptimizer:\u001b[0m 'optimizer=auto' found, ignoring 'lr0=0.01' and 'momentum=0.937' and determining best 'optimizer', 'lr0' and 'momentum' automatically... \n",
      "\u001b[34m\u001b[1moptimizer:\u001b[0m AdamW(lr=0.002, momentum=0.9) with parameter groups 57 weight(decay=0.0), 64 weight(decay=0.0005), 63 bias(decay=0.0)\n",
      "Image sizes 640 train, 640 val\n",
      "Using 0 dataloader workers\n",
      "Logging results to \u001b[1mruns\\detect\\train6\u001b[0m\n",
      "Starting training for 10 epochs...\n",
      "Closing dataloader mosaic\n",
      "\n",
      "      Epoch    GPU_mem   box_loss   cls_loss   dfl_loss  Instances       Size\n"
     ]
    },
    {
     "name": "stderr",
     "output_type": "stream",
     "text": [
      "       1/10         0G     0.7655      2.518      1.178          4        640: 100%|██████████| 16/16 [02:34<00:00,  9.\n",
      "                 Class     Images  Instances      Box(P          R      mAP50  mAP50-95): 100%|██████████| 1/1 [00:04<0"
     ]
    },
    {
     "name": "stdout",
     "output_type": "stream",
     "text": [
      "                   all         13         13    0.00835      0.984      0.776      0.617\n"
     ]
    },
    {
     "name": "stderr",
     "output_type": "stream",
     "text": [
      "\n"
     ]
    },
    {
     "name": "stdout",
     "output_type": "stream",
     "text": [
      "\n",
      "      Epoch    GPU_mem   box_loss   cls_loss   dfl_loss  Instances       Size\n"
     ]
    },
    {
     "name": "stderr",
     "output_type": "stream",
     "text": [
      "       2/10         0G     0.6892      1.702      1.121          4        640: 100%|██████████| 16/16 [02:17<00:00,  8.\n",
      "                 Class     Images  Instances      Box(P          R      mAP50  mAP50-95): 100%|██████████| 1/1 [00:02<0"
     ]
    },
    {
     "name": "stdout",
     "output_type": "stream",
     "text": [
      "                   all         13         13          1      0.327      0.894      0.677\n"
     ]
    },
    {
     "name": "stderr",
     "output_type": "stream",
     "text": [
      "\n"
     ]
    },
    {
     "name": "stdout",
     "output_type": "stream",
     "text": [
      "\n",
      "      Epoch    GPU_mem   box_loss   cls_loss   dfl_loss  Instances       Size\n"
     ]
    },
    {
     "name": "stderr",
     "output_type": "stream",
     "text": [
      "       3/10         0G     0.6715      1.499      1.081          3        640: 100%|██████████| 16/16 [02:15<00:00,  8.\n",
      "                 Class     Images  Instances      Box(P          R      mAP50  mAP50-95): 100%|██████████| 1/1 [00:02<0"
     ]
    },
    {
     "name": "stdout",
     "output_type": "stream",
     "text": [
      "                   all         13         13          1      0.485      0.685      0.468\n"
     ]
    },
    {
     "name": "stderr",
     "output_type": "stream",
     "text": [
      "\n"
     ]
    },
    {
     "name": "stdout",
     "output_type": "stream",
     "text": [
      "\n",
      "      Epoch    GPU_mem   box_loss   cls_loss   dfl_loss  Instances       Size\n"
     ]
    },
    {
     "name": "stderr",
     "output_type": "stream",
     "text": [
      "       4/10         0G     0.7683      1.466      1.132          3        640: 100%|██████████| 16/16 [02:16<00:00,  8.\n",
      "                 Class     Images  Instances      Box(P          R      mAP50  mAP50-95): 100%|██████████| 1/1 [00:02<0"
     ]
    },
    {
     "name": "stdout",
     "output_type": "stream",
     "text": [
      "                   all         13         13      0.829      0.846      0.834      0.674\n"
     ]
    },
    {
     "name": "stderr",
     "output_type": "stream",
     "text": [
      "\n"
     ]
    },
    {
     "name": "stdout",
     "output_type": "stream",
     "text": [
      "\n",
      "      Epoch    GPU_mem   box_loss   cls_loss   dfl_loss  Instances       Size\n"
     ]
    },
    {
     "name": "stderr",
     "output_type": "stream",
     "text": [
      "       5/10         0G     0.7083      1.301      1.105          3        640: 100%|██████████| 16/16 [02:16<00:00,  8.\n",
      "                 Class     Images  Instances      Box(P          R      mAP50  mAP50-95): 100%|██████████| 1/1 [00:02<0"
     ]
    },
    {
     "name": "stdout",
     "output_type": "stream",
     "text": [
      "                   all         13         13      0.979      0.923      0.965      0.722\n"
     ]
    },
    {
     "name": "stderr",
     "output_type": "stream",
     "text": [
      "\n"
     ]
    },
    {
     "name": "stdout",
     "output_type": "stream",
     "text": [
      "\n",
      "      Epoch    GPU_mem   box_loss   cls_loss   dfl_loss  Instances       Size\n"
     ]
    },
    {
     "name": "stderr",
     "output_type": "stream",
     "text": [
      "       6/10         0G     0.6638      1.162      1.087          3        640: 100%|██████████| 16/16 [02:15<00:00,  8.\n",
      "                 Class     Images  Instances      Box(P          R      mAP50  mAP50-95): 100%|██████████| 1/1 [00:02<0"
     ]
    },
    {
     "name": "stdout",
     "output_type": "stream",
     "text": [
      "                   all         13         13      0.995      0.923      0.973      0.755\n"
     ]
    },
    {
     "name": "stderr",
     "output_type": "stream",
     "text": [
      "\n"
     ]
    },
    {
     "name": "stdout",
     "output_type": "stream",
     "text": [
      "\n",
      "      Epoch    GPU_mem   box_loss   cls_loss   dfl_loss  Instances       Size\n"
     ]
    },
    {
     "name": "stderr",
     "output_type": "stream",
     "text": [
      "       7/10         0G     0.6673       1.11      1.059          3        640: 100%|██████████| 16/16 [02:16<00:00,  8.\n",
      "                 Class     Images  Instances      Box(P          R      mAP50  mAP50-95): 100%|██████████| 1/1 [00:02<0"
     ]
    },
    {
     "name": "stdout",
     "output_type": "stream",
     "text": [
      "                   all         13         13       0.65      0.769      0.807      0.599\n"
     ]
    },
    {
     "name": "stderr",
     "output_type": "stream",
     "text": [
      "\n"
     ]
    },
    {
     "name": "stdout",
     "output_type": "stream",
     "text": [
      "\n",
      "      Epoch    GPU_mem   box_loss   cls_loss   dfl_loss  Instances       Size\n"
     ]
    },
    {
     "name": "stderr",
     "output_type": "stream",
     "text": [
      "       8/10         0G     0.6254      1.034      1.008          3        640: 100%|██████████| 16/16 [02:16<00:00,  8.\n",
      "                 Class     Images  Instances      Box(P          R      mAP50  mAP50-95): 100%|██████████| 1/1 [00:02<0"
     ]
    },
    {
     "name": "stdout",
     "output_type": "stream",
     "text": [
      "                   all         13         13      0.855      0.923       0.95      0.797\n"
     ]
    },
    {
     "name": "stderr",
     "output_type": "stream",
     "text": [
      "\n"
     ]
    },
    {
     "name": "stdout",
     "output_type": "stream",
     "text": [
      "\n",
      "      Epoch    GPU_mem   box_loss   cls_loss   dfl_loss  Instances       Size\n"
     ]
    },
    {
     "name": "stderr",
     "output_type": "stream",
     "text": [
      "       9/10         0G     0.5605     0.9428      1.005          3        640: 100%|██████████| 16/16 [02:16<00:00,  8.\n",
      "                 Class     Images  Instances      Box(P          R      mAP50  mAP50-95): 100%|██████████| 1/1 [00:02<0"
     ]
    },
    {
     "name": "stdout",
     "output_type": "stream",
     "text": [
      "                   all         13         13          1      0.921      0.982      0.803\n"
     ]
    },
    {
     "name": "stderr",
     "output_type": "stream",
     "text": [
      "\n"
     ]
    },
    {
     "name": "stdout",
     "output_type": "stream",
     "text": [
      "\n",
      "      Epoch    GPU_mem   box_loss   cls_loss   dfl_loss  Instances       Size\n"
     ]
    },
    {
     "name": "stderr",
     "output_type": "stream",
     "text": [
      "      10/10         0G     0.5431     0.8992     0.9761          3        640: 100%|██████████| 16/16 [02:15<00:00,  8.\n",
      "                 Class     Images  Instances      Box(P          R      mAP50  mAP50-95): 100%|██████████| 1/1 [00:02<0"
     ]
    },
    {
     "name": "stdout",
     "output_type": "stream",
     "text": [
      "                   all         13         13      0.928      0.995       0.99      0.838\n"
     ]
    },
    {
     "name": "stderr",
     "output_type": "stream",
     "text": [
      "\n"
     ]
    },
    {
     "name": "stdout",
     "output_type": "stream",
     "text": [
      "\n",
      "10 epochs completed in 0.398 hours.\n",
      "Optimizer stripped from runs\\detect\\train6\\weights\\last.pt, 6.2MB\n",
      "Optimizer stripped from runs\\detect\\train6\\weights\\best.pt, 6.2MB\n",
      "\n",
      "Validating runs\\detect\\train6\\weights\\best.pt...\n",
      "Ultralytics 8.3.59  Python-3.12.8 torch-2.5.1 CPU (AMD Ryzen 5 7530U with Radeon Graphics)\n",
      "Model summary (fused): 168 layers, 3,005,843 parameters, 0 gradients, 8.1 GFLOPs\n"
     ]
    },
    {
     "name": "stderr",
     "output_type": "stream",
     "text": [
      "                 Class     Images  Instances      Box(P          R      mAP50  mAP50-95): 100%|██████████| 1/1 [00:03<0\n"
     ]
    },
    {
     "name": "stdout",
     "output_type": "stream",
     "text": [
      "                   all         13         13      0.928      0.995       0.99      0.838\n",
      "Speed: 10.8ms preprocess, 173.6ms inference, 0.0ms loss, 28.6ms postprocess per image\n",
      "Results saved to \u001b[1mruns\\detect\\train6\u001b[0m\n"
     ]
    },
    {
     "data": {
      "text/plain": [
       "ultralytics.utils.metrics.DetMetrics object with attributes:\n",
       "\n",
       "ap_class_index: array([0])\n",
       "box: ultralytics.utils.metrics.Metric object\n",
       "confusion_matrix: <ultralytics.utils.metrics.ConfusionMatrix object at 0x00000230D5CCE2A0>\n",
       "curves: ['Precision-Recall(B)', 'F1-Confidence(B)', 'Precision-Confidence(B)', 'Recall-Confidence(B)']\n",
       "curves_results: [[array([          0,    0.001001,    0.002002,    0.003003,    0.004004,    0.005005,    0.006006,    0.007007,    0.008008,    0.009009,     0.01001,    0.011011,    0.012012,    0.013013,    0.014014,    0.015015,    0.016016,    0.017017,    0.018018,    0.019019,     0.02002,    0.021021,    0.022022,    0.023023,\n",
       "          0.024024,    0.025025,    0.026026,    0.027027,    0.028028,    0.029029,     0.03003,    0.031031,    0.032032,    0.033033,    0.034034,    0.035035,    0.036036,    0.037037,    0.038038,    0.039039,     0.04004,    0.041041,    0.042042,    0.043043,    0.044044,    0.045045,    0.046046,    0.047047,\n",
       "          0.048048,    0.049049,     0.05005,    0.051051,    0.052052,    0.053053,    0.054054,    0.055055,    0.056056,    0.057057,    0.058058,    0.059059,     0.06006,    0.061061,    0.062062,    0.063063,    0.064064,    0.065065,    0.066066,    0.067067,    0.068068,    0.069069,     0.07007,    0.071071,\n",
       "          0.072072,    0.073073,    0.074074,    0.075075,    0.076076,    0.077077,    0.078078,    0.079079,     0.08008,    0.081081,    0.082082,    0.083083,    0.084084,    0.085085,    0.086086,    0.087087,    0.088088,    0.089089,     0.09009,    0.091091,    0.092092,    0.093093,    0.094094,    0.095095,\n",
       "          0.096096,    0.097097,    0.098098,    0.099099,      0.1001,      0.1011,      0.1021,      0.1031,      0.1041,     0.10511,     0.10611,     0.10711,     0.10811,     0.10911,     0.11011,     0.11111,     0.11211,     0.11311,     0.11411,     0.11512,     0.11612,     0.11712,     0.11812,     0.11912,\n",
       "           0.12012,     0.12112,     0.12212,     0.12312,     0.12412,     0.12513,     0.12613,     0.12713,     0.12813,     0.12913,     0.13013,     0.13113,     0.13213,     0.13313,     0.13413,     0.13514,     0.13614,     0.13714,     0.13814,     0.13914,     0.14014,     0.14114,     0.14214,     0.14314,\n",
       "           0.14414,     0.14515,     0.14615,     0.14715,     0.14815,     0.14915,     0.15015,     0.15115,     0.15215,     0.15315,     0.15415,     0.15516,     0.15616,     0.15716,     0.15816,     0.15916,     0.16016,     0.16116,     0.16216,     0.16316,     0.16416,     0.16517,     0.16617,     0.16717,\n",
       "           0.16817,     0.16917,     0.17017,     0.17117,     0.17217,     0.17317,     0.17417,     0.17518,     0.17618,     0.17718,     0.17818,     0.17918,     0.18018,     0.18118,     0.18218,     0.18318,     0.18418,     0.18519,     0.18619,     0.18719,     0.18819,     0.18919,     0.19019,     0.19119,\n",
       "           0.19219,     0.19319,     0.19419,      0.1952,      0.1962,      0.1972,      0.1982,      0.1992,      0.2002,      0.2012,      0.2022,      0.2032,      0.2042,     0.20521,     0.20621,     0.20721,     0.20821,     0.20921,     0.21021,     0.21121,     0.21221,     0.21321,     0.21421,     0.21522,\n",
       "           0.21622,     0.21722,     0.21822,     0.21922,     0.22022,     0.22122,     0.22222,     0.22322,     0.22422,     0.22523,     0.22623,     0.22723,     0.22823,     0.22923,     0.23023,     0.23123,     0.23223,     0.23323,     0.23423,     0.23524,     0.23624,     0.23724,     0.23824,     0.23924,\n",
       "           0.24024,     0.24124,     0.24224,     0.24324,     0.24424,     0.24525,     0.24625,     0.24725,     0.24825,     0.24925,     0.25025,     0.25125,     0.25225,     0.25325,     0.25425,     0.25526,     0.25626,     0.25726,     0.25826,     0.25926,     0.26026,     0.26126,     0.26226,     0.26326,\n",
       "           0.26426,     0.26527,     0.26627,     0.26727,     0.26827,     0.26927,     0.27027,     0.27127,     0.27227,     0.27327,     0.27427,     0.27528,     0.27628,     0.27728,     0.27828,     0.27928,     0.28028,     0.28128,     0.28228,     0.28328,     0.28428,     0.28529,     0.28629,     0.28729,\n",
       "           0.28829,     0.28929,     0.29029,     0.29129,     0.29229,     0.29329,     0.29429,      0.2953,      0.2963,      0.2973,      0.2983,      0.2993,      0.3003,      0.3013,      0.3023,      0.3033,      0.3043,     0.30531,     0.30631,     0.30731,     0.30831,     0.30931,     0.31031,     0.31131,\n",
       "           0.31231,     0.31331,     0.31431,     0.31532,     0.31632,     0.31732,     0.31832,     0.31932,     0.32032,     0.32132,     0.32232,     0.32332,     0.32432,     0.32533,     0.32633,     0.32733,     0.32833,     0.32933,     0.33033,     0.33133,     0.33233,     0.33333,     0.33433,     0.33534,\n",
       "           0.33634,     0.33734,     0.33834,     0.33934,     0.34034,     0.34134,     0.34234,     0.34334,     0.34434,     0.34535,     0.34635,     0.34735,     0.34835,     0.34935,     0.35035,     0.35135,     0.35235,     0.35335,     0.35435,     0.35536,     0.35636,     0.35736,     0.35836,     0.35936,\n",
       "           0.36036,     0.36136,     0.36236,     0.36336,     0.36436,     0.36537,     0.36637,     0.36737,     0.36837,     0.36937,     0.37037,     0.37137,     0.37237,     0.37337,     0.37437,     0.37538,     0.37638,     0.37738,     0.37838,     0.37938,     0.38038,     0.38138,     0.38238,     0.38338,\n",
       "           0.38438,     0.38539,     0.38639,     0.38739,     0.38839,     0.38939,     0.39039,     0.39139,     0.39239,     0.39339,     0.39439,      0.3954,      0.3964,      0.3974,      0.3984,      0.3994,      0.4004,      0.4014,      0.4024,      0.4034,      0.4044,     0.40541,     0.40641,     0.40741,\n",
       "           0.40841,     0.40941,     0.41041,     0.41141,     0.41241,     0.41341,     0.41441,     0.41542,     0.41642,     0.41742,     0.41842,     0.41942,     0.42042,     0.42142,     0.42242,     0.42342,     0.42442,     0.42543,     0.42643,     0.42743,     0.42843,     0.42943,     0.43043,     0.43143,\n",
       "           0.43243,     0.43343,     0.43443,     0.43544,     0.43644,     0.43744,     0.43844,     0.43944,     0.44044,     0.44144,     0.44244,     0.44344,     0.44444,     0.44545,     0.44645,     0.44745,     0.44845,     0.44945,     0.45045,     0.45145,     0.45245,     0.45345,     0.45445,     0.45546,\n",
       "           0.45646,     0.45746,     0.45846,     0.45946,     0.46046,     0.46146,     0.46246,     0.46346,     0.46446,     0.46547,     0.46647,     0.46747,     0.46847,     0.46947,     0.47047,     0.47147,     0.47247,     0.47347,     0.47447,     0.47548,     0.47648,     0.47748,     0.47848,     0.47948,\n",
       "           0.48048,     0.48148,     0.48248,     0.48348,     0.48448,     0.48549,     0.48649,     0.48749,     0.48849,     0.48949,     0.49049,     0.49149,     0.49249,     0.49349,     0.49449,      0.4955,      0.4965,      0.4975,      0.4985,      0.4995,      0.5005,      0.5015,      0.5025,      0.5035,\n",
       "            0.5045,     0.50551,     0.50651,     0.50751,     0.50851,     0.50951,     0.51051,     0.51151,     0.51251,     0.51351,     0.51451,     0.51552,     0.51652,     0.51752,     0.51852,     0.51952,     0.52052,     0.52152,     0.52252,     0.52352,     0.52452,     0.52553,     0.52653,     0.52753,\n",
       "           0.52853,     0.52953,     0.53053,     0.53153,     0.53253,     0.53353,     0.53453,     0.53554,     0.53654,     0.53754,     0.53854,     0.53954,     0.54054,     0.54154,     0.54254,     0.54354,     0.54454,     0.54555,     0.54655,     0.54755,     0.54855,     0.54955,     0.55055,     0.55155,\n",
       "           0.55255,     0.55355,     0.55455,     0.55556,     0.55656,     0.55756,     0.55856,     0.55956,     0.56056,     0.56156,     0.56256,     0.56356,     0.56456,     0.56557,     0.56657,     0.56757,     0.56857,     0.56957,     0.57057,     0.57157,     0.57257,     0.57357,     0.57457,     0.57558,\n",
       "           0.57658,     0.57758,     0.57858,     0.57958,     0.58058,     0.58158,     0.58258,     0.58358,     0.58458,     0.58559,     0.58659,     0.58759,     0.58859,     0.58959,     0.59059,     0.59159,     0.59259,     0.59359,     0.59459,      0.5956,      0.5966,      0.5976,      0.5986,      0.5996,\n",
       "            0.6006,      0.6016,      0.6026,      0.6036,      0.6046,     0.60561,     0.60661,     0.60761,     0.60861,     0.60961,     0.61061,     0.61161,     0.61261,     0.61361,     0.61461,     0.61562,     0.61662,     0.61762,     0.61862,     0.61962,     0.62062,     0.62162,     0.62262,     0.62362,\n",
       "           0.62462,     0.62563,     0.62663,     0.62763,     0.62863,     0.62963,     0.63063,     0.63163,     0.63263,     0.63363,     0.63463,     0.63564,     0.63664,     0.63764,     0.63864,     0.63964,     0.64064,     0.64164,     0.64264,     0.64364,     0.64464,     0.64565,     0.64665,     0.64765,\n",
       "           0.64865,     0.64965,     0.65065,     0.65165,     0.65265,     0.65365,     0.65465,     0.65566,     0.65666,     0.65766,     0.65866,     0.65966,     0.66066,     0.66166,     0.66266,     0.66366,     0.66466,     0.66567,     0.66667,     0.66767,     0.66867,     0.66967,     0.67067,     0.67167,\n",
       "           0.67267,     0.67367,     0.67467,     0.67568,     0.67668,     0.67768,     0.67868,     0.67968,     0.68068,     0.68168,     0.68268,     0.68368,     0.68468,     0.68569,     0.68669,     0.68769,     0.68869,     0.68969,     0.69069,     0.69169,     0.69269,     0.69369,     0.69469,      0.6957,\n",
       "            0.6967,      0.6977,      0.6987,      0.6997,      0.7007,      0.7017,      0.7027,      0.7037,      0.7047,     0.70571,     0.70671,     0.70771,     0.70871,     0.70971,     0.71071,     0.71171,     0.71271,     0.71371,     0.71471,     0.71572,     0.71672,     0.71772,     0.71872,     0.71972,\n",
       "           0.72072,     0.72172,     0.72272,     0.72372,     0.72472,     0.72573,     0.72673,     0.72773,     0.72873,     0.72973,     0.73073,     0.73173,     0.73273,     0.73373,     0.73473,     0.73574,     0.73674,     0.73774,     0.73874,     0.73974,     0.74074,     0.74174,     0.74274,     0.74374,\n",
       "           0.74474,     0.74575,     0.74675,     0.74775,     0.74875,     0.74975,     0.75075,     0.75175,     0.75275,     0.75375,     0.75475,     0.75576,     0.75676,     0.75776,     0.75876,     0.75976,     0.76076,     0.76176,     0.76276,     0.76376,     0.76476,     0.76577,     0.76677,     0.76777,\n",
       "           0.76877,     0.76977,     0.77077,     0.77177,     0.77277,     0.77377,     0.77477,     0.77578,     0.77678,     0.77778,     0.77878,     0.77978,     0.78078,     0.78178,     0.78278,     0.78378,     0.78478,     0.78579,     0.78679,     0.78779,     0.78879,     0.78979,     0.79079,     0.79179,\n",
       "           0.79279,     0.79379,     0.79479,      0.7958,      0.7968,      0.7978,      0.7988,      0.7998,      0.8008,      0.8018,      0.8028,      0.8038,      0.8048,     0.80581,     0.80681,     0.80781,     0.80881,     0.80981,     0.81081,     0.81181,     0.81281,     0.81381,     0.81481,     0.81582,\n",
       "           0.81682,     0.81782,     0.81882,     0.81982,     0.82082,     0.82182,     0.82282,     0.82382,     0.82482,     0.82583,     0.82683,     0.82783,     0.82883,     0.82983,     0.83083,     0.83183,     0.83283,     0.83383,     0.83483,     0.83584,     0.83684,     0.83784,     0.83884,     0.83984,\n",
       "           0.84084,     0.84184,     0.84284,     0.84384,     0.84484,     0.84585,     0.84685,     0.84785,     0.84885,     0.84985,     0.85085,     0.85185,     0.85285,     0.85385,     0.85485,     0.85586,     0.85686,     0.85786,     0.85886,     0.85986,     0.86086,     0.86186,     0.86286,     0.86386,\n",
       "           0.86486,     0.86587,     0.86687,     0.86787,     0.86887,     0.86987,     0.87087,     0.87187,     0.87287,     0.87387,     0.87487,     0.87588,     0.87688,     0.87788,     0.87888,     0.87988,     0.88088,     0.88188,     0.88288,     0.88388,     0.88488,     0.88589,     0.88689,     0.88789,\n",
       "           0.88889,     0.88989,     0.89089,     0.89189,     0.89289,     0.89389,     0.89489,      0.8959,      0.8969,      0.8979,      0.8989,      0.8999,      0.9009,      0.9019,      0.9029,      0.9039,      0.9049,     0.90591,     0.90691,     0.90791,     0.90891,     0.90991,     0.91091,     0.91191,\n",
       "           0.91291,     0.91391,     0.91491,     0.91592,     0.91692,     0.91792,     0.91892,     0.91992,     0.92092,     0.92192,     0.92292,     0.92392,     0.92492,     0.92593,     0.92693,     0.92793,     0.92893,     0.92993,     0.93093,     0.93193,     0.93293,     0.93393,     0.93493,     0.93594,\n",
       "           0.93694,     0.93794,     0.93894,     0.93994,     0.94094,     0.94194,     0.94294,     0.94394,     0.94494,     0.94595,     0.94695,     0.94795,     0.94895,     0.94995,     0.95095,     0.95195,     0.95295,     0.95395,     0.95495,     0.95596,     0.95696,     0.95796,     0.95896,     0.95996,\n",
       "           0.96096,     0.96196,     0.96296,     0.96396,     0.96496,     0.96597,     0.96697,     0.96797,     0.96897,     0.96997,     0.97097,     0.97197,     0.97297,     0.97397,     0.97497,     0.97598,     0.97698,     0.97798,     0.97898,     0.97998,     0.98098,     0.98198,     0.98298,     0.98398,\n",
       "           0.98498,     0.98599,     0.98699,     0.98799,     0.98899,     0.98999,     0.99099,     0.99199,     0.99299,     0.99399,     0.99499,       0.996,       0.997,       0.998,       0.999,           1]), array([[          1,           1,           1,           1,           1,           1,           1,           1,           1,           1,           1,           1,           1,           1,           1,           1,           1,           1,           1,           1,           1,           1,           1,\n",
       "                  1,           1,           1,           1,           1,           1,           1,           1,           1,           1,           1,           1,           1,           1,           1,           1,           1,           1,           1,           1,           1,           1,           1,\n",
       "                  1,           1,           1,           1,           1,           1,           1,           1,           1,           1,           1,           1,           1,           1,           1,           1,           1,           1,           1,           1,           1,           1,           1,\n",
       "                  1,           1,           1,           1,           1,           1,           1,           1,           1,           1,           1,           1,           1,           1,           1,           1,           1,           1,           1,           1,           1,           1,           1,\n",
       "                  1,           1,           1,           1,           1,           1,           1,           1,           1,           1,           1,           1,           1,           1,           1,           1,           1,           1,           1,           1,           1,           1,           1,\n",
       "                  1,           1,           1,           1,           1,           1,           1,           1,           1,           1,           1,           1,           1,           1,           1,           1,           1,           1,           1,           1,           1,           1,           1,\n",
       "                  1,           1,           1,           1,           1,           1,           1,           1,           1,           1,           1,           1,           1,           1,           1,           1,           1,           1,           1,           1,           1,           1,           1,\n",
       "                  1,           1,           1,           1,           1,           1,           1,           1,           1,           1,           1,           1,           1,           1,           1,           1,           1,           1,           1,           1,           1,           1,           1,\n",
       "                  1,           1,           1,           1,           1,           1,           1,           1,           1,           1,           1,           1,           1,           1,           1,           1,           1,           1,           1,           1,           1,           1,           1,\n",
       "                  1,           1,           1,           1,           1,           1,           1,           1,           1,           1,           1,           1,           1,           1,           1,           1,           1,           1,           1,           1,           1,           1,           1,\n",
       "                  1,           1,           1,           1,           1,           1,           1,           1,           1,           1,           1,           1,           1,           1,           1,           1,           1,           1,           1,           1,           1,           1,           1,\n",
       "                  1,           1,           1,           1,           1,           1,           1,           1,           1,           1,           1,           1,           1,           1,           1,           1,           1,           1,           1,           1,           1,           1,           1,\n",
       "                  1,           1,           1,           1,           1,           1,           1,           1,           1,           1,           1,           1,           1,           1,           1,           1,           1,           1,           1,           1,           1,           1,           1,\n",
       "                  1,           1,           1,           1,           1,           1,           1,           1,           1,           1,           1,           1,           1,           1,           1,           1,           1,           1,           1,           1,           1,           1,           1,\n",
       "                  1,           1,           1,           1,           1,           1,           1,           1,           1,           1,           1,           1,           1,           1,           1,           1,           1,           1,           1,           1,           1,           1,           1,\n",
       "                  1,           1,           1,           1,           1,           1,           1,           1,           1,           1,           1,           1,           1,           1,           1,           1,           1,           1,           1,           1,           1,           1,           1,\n",
       "                  1,           1,           1,           1,           1,           1,           1,           1,           1,           1,           1,           1,           1,           1,           1,           1,           1,           1,           1,           1,           1,           1,           1,\n",
       "                  1,           1,           1,           1,           1,           1,           1,           1,           1,           1,           1,           1,           1,           1,           1,           1,           1,           1,           1,           1,           1,           1,           1,\n",
       "                  1,           1,           1,           1,           1,           1,           1,           1,           1,           1,           1,           1,           1,           1,           1,           1,           1,           1,           1,           1,           1,           1,           1,\n",
       "                  1,           1,           1,           1,           1,           1,           1,           1,           1,           1,           1,           1,           1,           1,           1,           1,           1,           1,           1,           1,           1,           1,           1,\n",
       "                  1,           1,           1,           1,           1,           1,           1,           1,           1,           1,           1,           1,           1,           1,           1,           1,           1,           1,           1,           1,           1,           1,           1,\n",
       "                  1,           1,           1,           1,           1,           1,           1,           1,           1,           1,           1,           1,           1,           1,           1,           1,           1,           1,           1,           1,           1,           1,           1,\n",
       "                  1,           1,           1,           1,           1,           1,           1,           1,           1,           1,           1,           1,           1,           1,           1,           1,           1,           1,           1,           1,           1,           1,           1,\n",
       "                  1,           1,           1,           1,           1,           1,           1,           1,           1,           1,           1,           1,           1,           1,           1,           1,           1,           1,           1,           1,           1,           1,           1,\n",
       "                  1,           1,           1,           1,           1,           1,           1,           1,           1,           1,           1,           1,           1,           1,           1,           1,           1,           1,           1,           1,           1,           1,           1,\n",
       "                  1,           1,           1,           1,           1,           1,           1,           1,           1,           1,           1,           1,           1,           1,           1,           1,           1,           1,           1,           1,           1,           1,           1,\n",
       "                  1,           1,           1,           1,           1,           1,           1,           1,           1,           1,           1,           1,           1,           1,           1,           1,           1,           1,           1,           1,           1,           1,           1,\n",
       "                  1,           1,           1,           1,           1,           1,           1,           1,           1,           1,           1,           1,           1,           1,           1,           1,           1,           1,           1,           1,           1,           1,           1,\n",
       "                  1,           1,           1,           1,           1,           1,           1,           1,           1,           1,           1,           1,           1,           1,           1,           1,           1,           1,           1,           1,           1,           1,           1,\n",
       "                  1,           1,           1,           1,           1,           1,           1,           1,           1,           1,           1,           1,           1,           1,           1,           1,           1,           1,           1,           1,           1,           1,           1,\n",
       "                  1,           1,           1,           1,           1,           1,           1,           1,           1,           1,           1,           1,           1,           1,           1,           1,           1,           1,           1,           1,           1,           1,           1,\n",
       "                  1,           1,           1,           1,           1,           1,           1,           1,           1,           1,           1,           1,           1,           1,           1,           1,           1,           1,           1,           1,           1,           1,           1,\n",
       "                  1,           1,           1,           1,           1,           1,           1,           1,           1,           1,           1,           1,           1,           1,           1,           1,           1,           1,           1,           1,           1,           1,           1,\n",
       "                  1,           1,           1,           1,           1,           1,           1,           1,           1,           1,           1,           1,           1,           1,           1,           1,           1,           1,           1,           1,           1,           1,           1,\n",
       "                  1,           1,           1,           1,           1,           1,           1,           1,           1,           1,           1,           1,           1,           1,           1,           1,           1,           1,           1,           1,           1,           1,           1,\n",
       "                  1,           1,           1,           1,           1,           1,           1,           1,           1,           1,           1,           1,           1,           1,           1,           1,           1,           1,           1,           1,           1,           1,           1,\n",
       "                  1,           1,           1,           1,           1,           1,           1,           1,           1,           1,           1,           1,           1,           1,           1,           1,           1,           1,           1,           1,           1,           1,           1,\n",
       "                  1,           1,           1,           1,           1,           1,           1,           1,           1,           1,           1,           1,           1,           1,           1,           1,           1,           1,           1,           1,           1,           1,           1,\n",
       "                  1,           1,           1,           1,           1,           1,           1,           1,           1,           1,           1,           1,           1,           1,           1,           1,           1,           1,           1,           1,           1,           1,           1,\n",
       "                  1,           1,           1,           1,           1,           1,           1,           1,           1,           1,           1,           1,           1,           1,           1,           1,           1,           1,           1,           1,           1,           1,           1,\n",
       "                  1,           1,           1,     0.92857,     0.92857,     0.92857,     0.92857,     0.92857,     0.92857,     0.92857,     0.92857,     0.92857,     0.92857,     0.92857,     0.92857,     0.92857,     0.92857,     0.92857,     0.92857,     0.92857,     0.92857,     0.92857,     0.92857,\n",
       "            0.92857,     0.92857,     0.92857,     0.92857,     0.92857,     0.92857,     0.92857,     0.92857,     0.92857,     0.92857,     0.92857,     0.92857,     0.92857,     0.92857,     0.92857,     0.92857,     0.92857,     0.92857,     0.92857,     0.92857,     0.92857,     0.92857,     0.92857,\n",
       "            0.92857,     0.92857,     0.92857,     0.92857,     0.92857,     0.92857,     0.92857,     0.92857,     0.92857,     0.92857,     0.92857,     0.92857,     0.92857,     0.92857,     0.92857,     0.92857,     0.92857,     0.92857,     0.92857,     0.92857,     0.92857,     0.92857,     0.92857,\n",
       "            0.92857,     0.92857,     0.92857,     0.92857,     0.92857,     0.92857,     0.92857,     0.92857,     0.92857,     0.92857,           0]]), 'Recall', 'Precision'], [array([          0,    0.001001,    0.002002,    0.003003,    0.004004,    0.005005,    0.006006,    0.007007,    0.008008,    0.009009,     0.01001,    0.011011,    0.012012,    0.013013,    0.014014,    0.015015,    0.016016,    0.017017,    0.018018,    0.019019,     0.02002,    0.021021,    0.022022,    0.023023,\n",
       "          0.024024,    0.025025,    0.026026,    0.027027,    0.028028,    0.029029,     0.03003,    0.031031,    0.032032,    0.033033,    0.034034,    0.035035,    0.036036,    0.037037,    0.038038,    0.039039,     0.04004,    0.041041,    0.042042,    0.043043,    0.044044,    0.045045,    0.046046,    0.047047,\n",
       "          0.048048,    0.049049,     0.05005,    0.051051,    0.052052,    0.053053,    0.054054,    0.055055,    0.056056,    0.057057,    0.058058,    0.059059,     0.06006,    0.061061,    0.062062,    0.063063,    0.064064,    0.065065,    0.066066,    0.067067,    0.068068,    0.069069,     0.07007,    0.071071,\n",
       "          0.072072,    0.073073,    0.074074,    0.075075,    0.076076,    0.077077,    0.078078,    0.079079,     0.08008,    0.081081,    0.082082,    0.083083,    0.084084,    0.085085,    0.086086,    0.087087,    0.088088,    0.089089,     0.09009,    0.091091,    0.092092,    0.093093,    0.094094,    0.095095,\n",
       "          0.096096,    0.097097,    0.098098,    0.099099,      0.1001,      0.1011,      0.1021,      0.1031,      0.1041,     0.10511,     0.10611,     0.10711,     0.10811,     0.10911,     0.11011,     0.11111,     0.11211,     0.11311,     0.11411,     0.11512,     0.11612,     0.11712,     0.11812,     0.11912,\n",
       "           0.12012,     0.12112,     0.12212,     0.12312,     0.12412,     0.12513,     0.12613,     0.12713,     0.12813,     0.12913,     0.13013,     0.13113,     0.13213,     0.13313,     0.13413,     0.13514,     0.13614,     0.13714,     0.13814,     0.13914,     0.14014,     0.14114,     0.14214,     0.14314,\n",
       "           0.14414,     0.14515,     0.14615,     0.14715,     0.14815,     0.14915,     0.15015,     0.15115,     0.15215,     0.15315,     0.15415,     0.15516,     0.15616,     0.15716,     0.15816,     0.15916,     0.16016,     0.16116,     0.16216,     0.16316,     0.16416,     0.16517,     0.16617,     0.16717,\n",
       "           0.16817,     0.16917,     0.17017,     0.17117,     0.17217,     0.17317,     0.17417,     0.17518,     0.17618,     0.17718,     0.17818,     0.17918,     0.18018,     0.18118,     0.18218,     0.18318,     0.18418,     0.18519,     0.18619,     0.18719,     0.18819,     0.18919,     0.19019,     0.19119,\n",
       "           0.19219,     0.19319,     0.19419,      0.1952,      0.1962,      0.1972,      0.1982,      0.1992,      0.2002,      0.2012,      0.2022,      0.2032,      0.2042,     0.20521,     0.20621,     0.20721,     0.20821,     0.20921,     0.21021,     0.21121,     0.21221,     0.21321,     0.21421,     0.21522,\n",
       "           0.21622,     0.21722,     0.21822,     0.21922,     0.22022,     0.22122,     0.22222,     0.22322,     0.22422,     0.22523,     0.22623,     0.22723,     0.22823,     0.22923,     0.23023,     0.23123,     0.23223,     0.23323,     0.23423,     0.23524,     0.23624,     0.23724,     0.23824,     0.23924,\n",
       "           0.24024,     0.24124,     0.24224,     0.24324,     0.24424,     0.24525,     0.24625,     0.24725,     0.24825,     0.24925,     0.25025,     0.25125,     0.25225,     0.25325,     0.25425,     0.25526,     0.25626,     0.25726,     0.25826,     0.25926,     0.26026,     0.26126,     0.26226,     0.26326,\n",
       "           0.26426,     0.26527,     0.26627,     0.26727,     0.26827,     0.26927,     0.27027,     0.27127,     0.27227,     0.27327,     0.27427,     0.27528,     0.27628,     0.27728,     0.27828,     0.27928,     0.28028,     0.28128,     0.28228,     0.28328,     0.28428,     0.28529,     0.28629,     0.28729,\n",
       "           0.28829,     0.28929,     0.29029,     0.29129,     0.29229,     0.29329,     0.29429,      0.2953,      0.2963,      0.2973,      0.2983,      0.2993,      0.3003,      0.3013,      0.3023,      0.3033,      0.3043,     0.30531,     0.30631,     0.30731,     0.30831,     0.30931,     0.31031,     0.31131,\n",
       "           0.31231,     0.31331,     0.31431,     0.31532,     0.31632,     0.31732,     0.31832,     0.31932,     0.32032,     0.32132,     0.32232,     0.32332,     0.32432,     0.32533,     0.32633,     0.32733,     0.32833,     0.32933,     0.33033,     0.33133,     0.33233,     0.33333,     0.33433,     0.33534,\n",
       "           0.33634,     0.33734,     0.33834,     0.33934,     0.34034,     0.34134,     0.34234,     0.34334,     0.34434,     0.34535,     0.34635,     0.34735,     0.34835,     0.34935,     0.35035,     0.35135,     0.35235,     0.35335,     0.35435,     0.35536,     0.35636,     0.35736,     0.35836,     0.35936,\n",
       "           0.36036,     0.36136,     0.36236,     0.36336,     0.36436,     0.36537,     0.36637,     0.36737,     0.36837,     0.36937,     0.37037,     0.37137,     0.37237,     0.37337,     0.37437,     0.37538,     0.37638,     0.37738,     0.37838,     0.37938,     0.38038,     0.38138,     0.38238,     0.38338,\n",
       "           0.38438,     0.38539,     0.38639,     0.38739,     0.38839,     0.38939,     0.39039,     0.39139,     0.39239,     0.39339,     0.39439,      0.3954,      0.3964,      0.3974,      0.3984,      0.3994,      0.4004,      0.4014,      0.4024,      0.4034,      0.4044,     0.40541,     0.40641,     0.40741,\n",
       "           0.40841,     0.40941,     0.41041,     0.41141,     0.41241,     0.41341,     0.41441,     0.41542,     0.41642,     0.41742,     0.41842,     0.41942,     0.42042,     0.42142,     0.42242,     0.42342,     0.42442,     0.42543,     0.42643,     0.42743,     0.42843,     0.42943,     0.43043,     0.43143,\n",
       "           0.43243,     0.43343,     0.43443,     0.43544,     0.43644,     0.43744,     0.43844,     0.43944,     0.44044,     0.44144,     0.44244,     0.44344,     0.44444,     0.44545,     0.44645,     0.44745,     0.44845,     0.44945,     0.45045,     0.45145,     0.45245,     0.45345,     0.45445,     0.45546,\n",
       "           0.45646,     0.45746,     0.45846,     0.45946,     0.46046,     0.46146,     0.46246,     0.46346,     0.46446,     0.46547,     0.46647,     0.46747,     0.46847,     0.46947,     0.47047,     0.47147,     0.47247,     0.47347,     0.47447,     0.47548,     0.47648,     0.47748,     0.47848,     0.47948,\n",
       "           0.48048,     0.48148,     0.48248,     0.48348,     0.48448,     0.48549,     0.48649,     0.48749,     0.48849,     0.48949,     0.49049,     0.49149,     0.49249,     0.49349,     0.49449,      0.4955,      0.4965,      0.4975,      0.4985,      0.4995,      0.5005,      0.5015,      0.5025,      0.5035,\n",
       "            0.5045,     0.50551,     0.50651,     0.50751,     0.50851,     0.50951,     0.51051,     0.51151,     0.51251,     0.51351,     0.51451,     0.51552,     0.51652,     0.51752,     0.51852,     0.51952,     0.52052,     0.52152,     0.52252,     0.52352,     0.52452,     0.52553,     0.52653,     0.52753,\n",
       "           0.52853,     0.52953,     0.53053,     0.53153,     0.53253,     0.53353,     0.53453,     0.53554,     0.53654,     0.53754,     0.53854,     0.53954,     0.54054,     0.54154,     0.54254,     0.54354,     0.54454,     0.54555,     0.54655,     0.54755,     0.54855,     0.54955,     0.55055,     0.55155,\n",
       "           0.55255,     0.55355,     0.55455,     0.55556,     0.55656,     0.55756,     0.55856,     0.55956,     0.56056,     0.56156,     0.56256,     0.56356,     0.56456,     0.56557,     0.56657,     0.56757,     0.56857,     0.56957,     0.57057,     0.57157,     0.57257,     0.57357,     0.57457,     0.57558,\n",
       "           0.57658,     0.57758,     0.57858,     0.57958,     0.58058,     0.58158,     0.58258,     0.58358,     0.58458,     0.58559,     0.58659,     0.58759,     0.58859,     0.58959,     0.59059,     0.59159,     0.59259,     0.59359,     0.59459,      0.5956,      0.5966,      0.5976,      0.5986,      0.5996,\n",
       "            0.6006,      0.6016,      0.6026,      0.6036,      0.6046,     0.60561,     0.60661,     0.60761,     0.60861,     0.60961,     0.61061,     0.61161,     0.61261,     0.61361,     0.61461,     0.61562,     0.61662,     0.61762,     0.61862,     0.61962,     0.62062,     0.62162,     0.62262,     0.62362,\n",
       "           0.62462,     0.62563,     0.62663,     0.62763,     0.62863,     0.62963,     0.63063,     0.63163,     0.63263,     0.63363,     0.63463,     0.63564,     0.63664,     0.63764,     0.63864,     0.63964,     0.64064,     0.64164,     0.64264,     0.64364,     0.64464,     0.64565,     0.64665,     0.64765,\n",
       "           0.64865,     0.64965,     0.65065,     0.65165,     0.65265,     0.65365,     0.65465,     0.65566,     0.65666,     0.65766,     0.65866,     0.65966,     0.66066,     0.66166,     0.66266,     0.66366,     0.66466,     0.66567,     0.66667,     0.66767,     0.66867,     0.66967,     0.67067,     0.67167,\n",
       "           0.67267,     0.67367,     0.67467,     0.67568,     0.67668,     0.67768,     0.67868,     0.67968,     0.68068,     0.68168,     0.68268,     0.68368,     0.68468,     0.68569,     0.68669,     0.68769,     0.68869,     0.68969,     0.69069,     0.69169,     0.69269,     0.69369,     0.69469,      0.6957,\n",
       "            0.6967,      0.6977,      0.6987,      0.6997,      0.7007,      0.7017,      0.7027,      0.7037,      0.7047,     0.70571,     0.70671,     0.70771,     0.70871,     0.70971,     0.71071,     0.71171,     0.71271,     0.71371,     0.71471,     0.71572,     0.71672,     0.71772,     0.71872,     0.71972,\n",
       "           0.72072,     0.72172,     0.72272,     0.72372,     0.72472,     0.72573,     0.72673,     0.72773,     0.72873,     0.72973,     0.73073,     0.73173,     0.73273,     0.73373,     0.73473,     0.73574,     0.73674,     0.73774,     0.73874,     0.73974,     0.74074,     0.74174,     0.74274,     0.74374,\n",
       "           0.74474,     0.74575,     0.74675,     0.74775,     0.74875,     0.74975,     0.75075,     0.75175,     0.75275,     0.75375,     0.75475,     0.75576,     0.75676,     0.75776,     0.75876,     0.75976,     0.76076,     0.76176,     0.76276,     0.76376,     0.76476,     0.76577,     0.76677,     0.76777,\n",
       "           0.76877,     0.76977,     0.77077,     0.77177,     0.77277,     0.77377,     0.77477,     0.77578,     0.77678,     0.77778,     0.77878,     0.77978,     0.78078,     0.78178,     0.78278,     0.78378,     0.78478,     0.78579,     0.78679,     0.78779,     0.78879,     0.78979,     0.79079,     0.79179,\n",
       "           0.79279,     0.79379,     0.79479,      0.7958,      0.7968,      0.7978,      0.7988,      0.7998,      0.8008,      0.8018,      0.8028,      0.8038,      0.8048,     0.80581,     0.80681,     0.80781,     0.80881,     0.80981,     0.81081,     0.81181,     0.81281,     0.81381,     0.81481,     0.81582,\n",
       "           0.81682,     0.81782,     0.81882,     0.81982,     0.82082,     0.82182,     0.82282,     0.82382,     0.82482,     0.82583,     0.82683,     0.82783,     0.82883,     0.82983,     0.83083,     0.83183,     0.83283,     0.83383,     0.83483,     0.83584,     0.83684,     0.83784,     0.83884,     0.83984,\n",
       "           0.84084,     0.84184,     0.84284,     0.84384,     0.84484,     0.84585,     0.84685,     0.84785,     0.84885,     0.84985,     0.85085,     0.85185,     0.85285,     0.85385,     0.85485,     0.85586,     0.85686,     0.85786,     0.85886,     0.85986,     0.86086,     0.86186,     0.86286,     0.86386,\n",
       "           0.86486,     0.86587,     0.86687,     0.86787,     0.86887,     0.86987,     0.87087,     0.87187,     0.87287,     0.87387,     0.87487,     0.87588,     0.87688,     0.87788,     0.87888,     0.87988,     0.88088,     0.88188,     0.88288,     0.88388,     0.88488,     0.88589,     0.88689,     0.88789,\n",
       "           0.88889,     0.88989,     0.89089,     0.89189,     0.89289,     0.89389,     0.89489,      0.8959,      0.8969,      0.8979,      0.8989,      0.8999,      0.9009,      0.9019,      0.9029,      0.9039,      0.9049,     0.90591,     0.90691,     0.90791,     0.90891,     0.90991,     0.91091,     0.91191,\n",
       "           0.91291,     0.91391,     0.91491,     0.91592,     0.91692,     0.91792,     0.91892,     0.91992,     0.92092,     0.92192,     0.92292,     0.92392,     0.92492,     0.92593,     0.92693,     0.92793,     0.92893,     0.92993,     0.93093,     0.93193,     0.93293,     0.93393,     0.93493,     0.93594,\n",
       "           0.93694,     0.93794,     0.93894,     0.93994,     0.94094,     0.94194,     0.94294,     0.94394,     0.94494,     0.94595,     0.94695,     0.94795,     0.94895,     0.94995,     0.95095,     0.95195,     0.95295,     0.95395,     0.95495,     0.95596,     0.95696,     0.95796,     0.95896,     0.95996,\n",
       "           0.96096,     0.96196,     0.96296,     0.96396,     0.96496,     0.96597,     0.96697,     0.96797,     0.96897,     0.96997,     0.97097,     0.97197,     0.97297,     0.97397,     0.97497,     0.97598,     0.97698,     0.97798,     0.97898,     0.97998,     0.98098,     0.98198,     0.98298,     0.98398,\n",
       "           0.98498,     0.98599,     0.98699,     0.98799,     0.98899,     0.98999,     0.99099,     0.99199,     0.99299,     0.99399,     0.99499,       0.996,       0.997,       0.998,       0.999,           1]), array([[  0.0066445,   0.0066445,   0.0081286,     0.01008,    0.010547,    0.011936,    0.017691,    0.036566,    0.076369,     0.13138,     0.18795,     0.27058,      0.3351,     0.37897,       0.434,     0.48893,     0.52929,     0.58818,     0.64025,     0.65499,     0.66346,     0.67378,      0.7033,\n",
       "            0.71656,     0.74078,     0.75524,     0.76683,     0.77457,     0.78222,     0.78832,     0.79005,     0.79177,     0.79349,     0.79521,     0.79692,     0.79862,     0.80032,     0.80202,     0.80371,      0.8054,     0.80708,     0.80876,     0.81043,      0.8121,     0.81579,      0.8201,\n",
       "            0.82438,     0.82862,     0.83284,     0.83703,     0.83908,     0.83969,     0.84031,     0.84092,     0.84154,     0.84215,     0.84277,     0.84338,     0.84399,      0.8446,     0.84521,     0.84582,     0.84643,     0.84704,     0.84765,     0.84826,     0.84886,     0.84947,     0.85007,\n",
       "            0.85068,     0.85128,     0.85189,     0.85249,     0.85309,     0.85369,     0.85429,     0.85489,     0.85549,     0.85609,     0.85669,     0.85729,     0.85789,     0.85848,     0.85908,     0.85967,     0.86027,     0.86086,     0.86146,     0.86205,     0.86264,     0.86323,     0.86382,\n",
       "            0.86442,     0.86501,     0.86559,     0.86618,     0.86832,     0.87758,     0.88669,     0.89565,     0.89777,     0.89911,     0.90046,      0.9018,     0.90314,     0.90447,      0.9058,     0.90713,     0.90845,     0.90978,     0.91109,     0.91241,     0.91372,     0.91503,     0.91634,\n",
       "            0.91764,     0.91894,     0.92023,     0.92153,     0.92282,      0.9241,     0.92539,     0.92667,     0.92795,     0.92874,     0.92908,     0.92942,     0.92975,     0.93009,     0.93042,     0.93076,      0.9311,     0.93143,     0.93177,      0.9321,     0.93244,     0.93277,      0.9331,\n",
       "            0.93344,     0.93377,      0.9341,     0.93444,     0.93477,      0.9351,     0.93544,     0.93577,      0.9361,     0.93643,     0.93677,      0.9371,     0.93743,     0.93776,     0.93809,     0.93842,     0.93875,     0.93908,     0.93941,     0.93974,     0.94007,      0.9404,     0.94073,\n",
       "            0.94106,     0.94139,     0.94172,     0.94205,     0.94238,      0.9427,     0.94303,     0.94336,     0.94369,     0.94401,     0.94434,     0.94467,     0.94499,     0.94532,     0.94565,     0.94597,      0.9463,     0.94663,     0.94695,     0.94728,      0.9476,     0.94793,     0.94825,\n",
       "            0.94858,      0.9489,     0.94922,     0.94955,     0.94987,      0.9502,     0.95052,     0.95084,     0.95116,     0.95149,     0.95181,     0.95213,     0.95245,     0.95278,      0.9531,     0.95342,     0.95374,     0.95406,     0.95438,      0.9547,     0.95502,     0.95534,     0.95566,\n",
       "            0.95598,      0.9563,     0.95662,     0.95694,     0.95726,     0.95758,      0.9579,     0.95822,     0.95854,     0.95886,     0.95917,     0.95949,     0.95981,     0.96013,     0.96044,     0.96076,     0.96108,     0.96139,     0.96171,     0.96203,     0.96234,     0.96266,     0.96296,\n",
       "            0.96288,      0.9628,     0.96273,     0.96265,     0.96257,     0.96249,     0.96242,     0.96234,     0.96226,     0.96218,     0.96211,     0.96203,     0.96195,     0.96187,     0.96179,     0.96172,     0.96164,     0.96156,     0.96148,     0.96141,     0.96133,     0.96125,     0.96117,\n",
       "            0.96109,     0.96102,     0.96094,     0.96086,     0.96078,      0.9607,     0.96063,     0.96055,     0.96047,     0.96039,     0.96032,     0.96024,     0.96016,     0.96008,        0.96,     0.95993,     0.95985,     0.95977,     0.95969,     0.95961,     0.95954,     0.95946,     0.95938,\n",
       "             0.9593,     0.95922,     0.95914,     0.95907,     0.95899,     0.95891,     0.95883,     0.95875,     0.95868,      0.9586,     0.95852,     0.95844,     0.95836,     0.95828,     0.95821,     0.95813,     0.95805,     0.95797,     0.95789,     0.95782,     0.95774,     0.95766,     0.95758,\n",
       "             0.9575,     0.95742,     0.95735,     0.95727,     0.95719,     0.95711,     0.95703,     0.95695,     0.95688,      0.9568,     0.95672,     0.95664,     0.95656,     0.95648,      0.9564,     0.95633,     0.95625,     0.95617,     0.95609,     0.95601,     0.95593,     0.95586,     0.95578,\n",
       "             0.9557,     0.95562,     0.95554,     0.95546,     0.95538,     0.95531,     0.95523,     0.95515,     0.95507,     0.95499,     0.95491,     0.95483,     0.95475,     0.95468,      0.9546,     0.95452,     0.95444,     0.95436,     0.95428,      0.9542,     0.95413,     0.95405,     0.95397,\n",
       "            0.95389,     0.95381,     0.95373,     0.95365,     0.95357,     0.95349,     0.95342,     0.95334,     0.95326,     0.95318,      0.9531,     0.95302,     0.95294,     0.95286,     0.95279,     0.95271,     0.95263,     0.95255,     0.95247,     0.95239,     0.95231,     0.95223,     0.95215,\n",
       "            0.95207,       0.952,     0.95192,     0.95184,     0.95176,     0.95168,      0.9516,     0.95152,     0.95144,     0.95136,     0.95128,      0.9512,     0.95113,     0.95105,     0.95097,     0.95089,     0.95081,     0.95073,     0.95065,     0.95057,     0.95049,     0.95041,     0.95033,\n",
       "            0.95025,     0.95018,      0.9501,     0.95002,     0.94994,     0.94986,     0.94978,      0.9497,     0.94962,     0.94954,     0.94946,     0.94938,      0.9493,     0.94922,     0.94914,     0.94906,     0.94899,     0.94891,     0.94883,     0.94875,     0.94867,     0.94859,     0.94851,\n",
       "            0.94843,     0.94835,     0.94827,     0.94819,     0.94811,     0.94803,     0.94795,     0.94787,     0.94779,     0.94771,     0.94763,     0.94755,     0.94747,     0.94739,     0.94732,     0.94724,     0.94716,     0.94708,       0.947,     0.94692,     0.94684,     0.94676,     0.94668,\n",
       "             0.9466,     0.94652,     0.94644,     0.94636,     0.94628,      0.9462,     0.94612,     0.94604,     0.94596,     0.94588,      0.9458,     0.94572,     0.94564,     0.94556,     0.94548,      0.9454,     0.94532,     0.94524,     0.94516,     0.94508,       0.945,     0.94492,     0.94484,\n",
       "            0.94476,     0.94468,      0.9446,     0.94452,     0.94444,     0.94436,     0.94428,      0.9442,     0.94412,     0.94404,     0.94396,     0.94388,      0.9438,     0.94372,     0.94364,     0.94356,     0.94348,      0.9434,     0.94332,     0.94324,     0.94316,     0.94308,       0.943,\n",
       "            0.94292,     0.94284,     0.94276,     0.94268,      0.9426,     0.94252,     0.94244,     0.94236,     0.94228,      0.9422,     0.94212,     0.94204,     0.94196,     0.94188,      0.9418,     0.94172,     0.94164,     0.94156,     0.94147,     0.94139,     0.94131,     0.94123,     0.94115,\n",
       "            0.94107,     0.94099,     0.94091,     0.94083,     0.94075,     0.94067,     0.94059,     0.94051,     0.94043,     0.94035,     0.94027,     0.94019,     0.94011,     0.94003,     0.93995,     0.93987,     0.93978,      0.9397,     0.93962,     0.93954,     0.93946,     0.93938,      0.9393,\n",
       "            0.93922,     0.93914,     0.93906,     0.93898,      0.9389,     0.93882,     0.93874,     0.93865,     0.93857,     0.93849,     0.93841,     0.93833,     0.93825,     0.93817,     0.93809,     0.93801,     0.93793,     0.93785,     0.93777,     0.93769,      0.9376,     0.93752,     0.93744,\n",
       "            0.93736,     0.93728,      0.9372,     0.93712,     0.93704,     0.93696,     0.93688,     0.93679,     0.93671,     0.93663,     0.93655,     0.93647,     0.93639,     0.93631,     0.93623,     0.93615,     0.93607,     0.93598,      0.9359,     0.93582,     0.93574,     0.93566,     0.93558,\n",
       "             0.9355,     0.93542,     0.93534,     0.93525,     0.93517,     0.93509,     0.93501,     0.93493,     0.93485,     0.93477,     0.93469,      0.9346,     0.93452,     0.93444,     0.93436,     0.93428,      0.9342,     0.93412,     0.93403,     0.93395,     0.93387,     0.93379,     0.93371,\n",
       "            0.93363,     0.93355,     0.93346,     0.93338,      0.9333,     0.93322,     0.93314,     0.93306,     0.93298,     0.93289,     0.93281,     0.93273,     0.93265,     0.93257,     0.93249,     0.93241,     0.93232,     0.93224,     0.93216,     0.93208,       0.932,     0.93192,     0.93183,\n",
       "            0.93175,     0.93167,     0.93159,     0.93151,     0.93143,     0.93134,     0.93126,     0.93118,      0.9311,     0.93102,     0.93093,     0.93085,     0.93077,     0.93069,     0.93061,     0.93053,     0.93044,     0.93036,     0.93028,      0.9302,     0.93012,     0.93003,     0.92995,\n",
       "            0.92987,     0.92979,     0.92971,     0.92963,     0.92954,     0.92946,     0.92938,      0.9293,     0.92922,     0.92913,     0.92905,     0.92897,     0.92889,      0.9288,     0.92872,     0.92864,     0.92856,     0.92848,     0.92839,     0.92831,     0.92823,     0.92815,     0.92807,\n",
       "            0.92798,      0.9279,     0.92782,     0.92774,     0.92766,     0.92757,     0.92749,     0.92741,     0.92733,     0.92724,     0.92716,     0.92708,       0.927,     0.92691,     0.92683,     0.92675,     0.92667,     0.92659,      0.9265,     0.92642,     0.92634,     0.92626,     0.92617,\n",
       "            0.92609,     0.92601,     0.92593,     0.92584,     0.92576,     0.92568,      0.9256,     0.92551,     0.92543,     0.92535,     0.92527,     0.92518,      0.9251,     0.92502,     0.92494,     0.92485,     0.92477,     0.92469,     0.92461,     0.92452,     0.92444,     0.92436,     0.92427,\n",
       "            0.92419,     0.92411,     0.92403,     0.92394,     0.92386,     0.92378,      0.9237,     0.92361,     0.92353,     0.92345,     0.92336,     0.92328,      0.9232,     0.92312,      0.9232,     0.92343,     0.92366,     0.92389,     0.92412,     0.92435,     0.92458,     0.92481,     0.92504,\n",
       "            0.92527,      0.9255,     0.92573,     0.92596,     0.92619,     0.92642,     0.92665,     0.92688,     0.92711,     0.92734,     0.92757,      0.9278,     0.92803,     0.92825,     0.92848,     0.92871,     0.92894,     0.92917,      0.9294,     0.92962,     0.92985,     0.93008,     0.93031,\n",
       "            0.93053,     0.93076,     0.93099,     0.93122,     0.93144,     0.93167,      0.9319,     0.93212,     0.93235,     0.93258,      0.9328,     0.93303,     0.93326,     0.93348,     0.93371,     0.93393,     0.93416,     0.93438,     0.93461,     0.93484,     0.93506,     0.93529,     0.93551,\n",
       "            0.93574,     0.93596,     0.93618,     0.93641,     0.93663,     0.93686,     0.93708,     0.93731,     0.93753,     0.93775,     0.93798,      0.9382,     0.93843,     0.93865,     0.93887,      0.9391,     0.93932,     0.93954,     0.93976,     0.93999,     0.94021,     0.94043,     0.94066,\n",
       "            0.94088,      0.9411,     0.94132,     0.94154,     0.94177,     0.94199,     0.94221,     0.94243,     0.94265,     0.94287,      0.9431,     0.94332,     0.94354,     0.94376,     0.94398,      0.9442,     0.94442,     0.94464,     0.94486,     0.94508,      0.9453,     0.94552,     0.94574,\n",
       "            0.94596,     0.94618,      0.9464,     0.94662,     0.94684,     0.94706,     0.94728,      0.9475,     0.94772,     0.94794,     0.94816,     0.94837,     0.94859,     0.94881,     0.94903,     0.94925,     0.94947,     0.94968,      0.9499,     0.95012,     0.95034,     0.95056,     0.95077,\n",
       "            0.95099,     0.95121,     0.95143,     0.95164,     0.95186,     0.95208,     0.95229,     0.95251,     0.95273,     0.95294,     0.95316,     0.95338,     0.95359,     0.95381,     0.95402,     0.95424,     0.95446,     0.95467,     0.95489,      0.9551,     0.95532,     0.95553,     0.95575,\n",
       "            0.95596,     0.95618,     0.95639,     0.95661,     0.95682,     0.95704,     0.95725,     0.95747,     0.95768,     0.95789,     0.95811,     0.95832,     0.95854,     0.95875,     0.95896,     0.95918,     0.95939,      0.9596,     0.95982,     0.95707,     0.93514,     0.91622,     0.91386,\n",
       "             0.9115,     0.90912,     0.90673,     0.90433,     0.90192,      0.8995,     0.89707,     0.89462,     0.89217,     0.88971,     0.88723,     0.88475,     0.88225,     0.87974,     0.87722,     0.87469,     0.87215,     0.86959,     0.86304,     0.85637,     0.84961,     0.84278,     0.83587,\n",
       "            0.82887,     0.82179,     0.76055,     0.75743,     0.75429,     0.75114,     0.74797,     0.74479,     0.74159,     0.73837,     0.73514,     0.73189,     0.72862,     0.72534,     0.72204,     0.71872,     0.71539,     0.71203,     0.70866,     0.70528,     0.70187,      0.6707,     0.62338,\n",
       "            0.60377,     0.58359,     0.56281,     0.55306,     0.54925,     0.54541,     0.54156,     0.53769,     0.53379,     0.52988,     0.52594,     0.52199,     0.51801,     0.51401,     0.50999,     0.50595,     0.50188,     0.49779,     0.49368,     0.48955,      0.4854,     0.48122,     0.47702,\n",
       "            0.47279,     0.45046,      0.4068,     0.35269,     0.27515,     0.26296,     0.25881,     0.25464,     0.25045,     0.24624,     0.24201,     0.23776,     0.23349,     0.22919,     0.22488,     0.22054,     0.21619,     0.21181,     0.20741,     0.20299,     0.19855,     0.19408,      0.1896,\n",
       "            0.18509,     0.18055,       0.176,     0.17142,     0.16682,      0.1622,     0.15755,     0.15288,     0.14819,     0.14347,           0]]), 'Confidence', 'F1'], [array([          0,    0.001001,    0.002002,    0.003003,    0.004004,    0.005005,    0.006006,    0.007007,    0.008008,    0.009009,     0.01001,    0.011011,    0.012012,    0.013013,    0.014014,    0.015015,    0.016016,    0.017017,    0.018018,    0.019019,     0.02002,    0.021021,    0.022022,    0.023023,\n",
       "          0.024024,    0.025025,    0.026026,    0.027027,    0.028028,    0.029029,     0.03003,    0.031031,    0.032032,    0.033033,    0.034034,    0.035035,    0.036036,    0.037037,    0.038038,    0.039039,     0.04004,    0.041041,    0.042042,    0.043043,    0.044044,    0.045045,    0.046046,    0.047047,\n",
       "          0.048048,    0.049049,     0.05005,    0.051051,    0.052052,    0.053053,    0.054054,    0.055055,    0.056056,    0.057057,    0.058058,    0.059059,     0.06006,    0.061061,    0.062062,    0.063063,    0.064064,    0.065065,    0.066066,    0.067067,    0.068068,    0.069069,     0.07007,    0.071071,\n",
       "          0.072072,    0.073073,    0.074074,    0.075075,    0.076076,    0.077077,    0.078078,    0.079079,     0.08008,    0.081081,    0.082082,    0.083083,    0.084084,    0.085085,    0.086086,    0.087087,    0.088088,    0.089089,     0.09009,    0.091091,    0.092092,    0.093093,    0.094094,    0.095095,\n",
       "          0.096096,    0.097097,    0.098098,    0.099099,      0.1001,      0.1011,      0.1021,      0.1031,      0.1041,     0.10511,     0.10611,     0.10711,     0.10811,     0.10911,     0.11011,     0.11111,     0.11211,     0.11311,     0.11411,     0.11512,     0.11612,     0.11712,     0.11812,     0.11912,\n",
       "           0.12012,     0.12112,     0.12212,     0.12312,     0.12412,     0.12513,     0.12613,     0.12713,     0.12813,     0.12913,     0.13013,     0.13113,     0.13213,     0.13313,     0.13413,     0.13514,     0.13614,     0.13714,     0.13814,     0.13914,     0.14014,     0.14114,     0.14214,     0.14314,\n",
       "           0.14414,     0.14515,     0.14615,     0.14715,     0.14815,     0.14915,     0.15015,     0.15115,     0.15215,     0.15315,     0.15415,     0.15516,     0.15616,     0.15716,     0.15816,     0.15916,     0.16016,     0.16116,     0.16216,     0.16316,     0.16416,     0.16517,     0.16617,     0.16717,\n",
       "           0.16817,     0.16917,     0.17017,     0.17117,     0.17217,     0.17317,     0.17417,     0.17518,     0.17618,     0.17718,     0.17818,     0.17918,     0.18018,     0.18118,     0.18218,     0.18318,     0.18418,     0.18519,     0.18619,     0.18719,     0.18819,     0.18919,     0.19019,     0.19119,\n",
       "           0.19219,     0.19319,     0.19419,      0.1952,      0.1962,      0.1972,      0.1982,      0.1992,      0.2002,      0.2012,      0.2022,      0.2032,      0.2042,     0.20521,     0.20621,     0.20721,     0.20821,     0.20921,     0.21021,     0.21121,     0.21221,     0.21321,     0.21421,     0.21522,\n",
       "           0.21622,     0.21722,     0.21822,     0.21922,     0.22022,     0.22122,     0.22222,     0.22322,     0.22422,     0.22523,     0.22623,     0.22723,     0.22823,     0.22923,     0.23023,     0.23123,     0.23223,     0.23323,     0.23423,     0.23524,     0.23624,     0.23724,     0.23824,     0.23924,\n",
       "           0.24024,     0.24124,     0.24224,     0.24324,     0.24424,     0.24525,     0.24625,     0.24725,     0.24825,     0.24925,     0.25025,     0.25125,     0.25225,     0.25325,     0.25425,     0.25526,     0.25626,     0.25726,     0.25826,     0.25926,     0.26026,     0.26126,     0.26226,     0.26326,\n",
       "           0.26426,     0.26527,     0.26627,     0.26727,     0.26827,     0.26927,     0.27027,     0.27127,     0.27227,     0.27327,     0.27427,     0.27528,     0.27628,     0.27728,     0.27828,     0.27928,     0.28028,     0.28128,     0.28228,     0.28328,     0.28428,     0.28529,     0.28629,     0.28729,\n",
       "           0.28829,     0.28929,     0.29029,     0.29129,     0.29229,     0.29329,     0.29429,      0.2953,      0.2963,      0.2973,      0.2983,      0.2993,      0.3003,      0.3013,      0.3023,      0.3033,      0.3043,     0.30531,     0.30631,     0.30731,     0.30831,     0.30931,     0.31031,     0.31131,\n",
       "           0.31231,     0.31331,     0.31431,     0.31532,     0.31632,     0.31732,     0.31832,     0.31932,     0.32032,     0.32132,     0.32232,     0.32332,     0.32432,     0.32533,     0.32633,     0.32733,     0.32833,     0.32933,     0.33033,     0.33133,     0.33233,     0.33333,     0.33433,     0.33534,\n",
       "           0.33634,     0.33734,     0.33834,     0.33934,     0.34034,     0.34134,     0.34234,     0.34334,     0.34434,     0.34535,     0.34635,     0.34735,     0.34835,     0.34935,     0.35035,     0.35135,     0.35235,     0.35335,     0.35435,     0.35536,     0.35636,     0.35736,     0.35836,     0.35936,\n",
       "           0.36036,     0.36136,     0.36236,     0.36336,     0.36436,     0.36537,     0.36637,     0.36737,     0.36837,     0.36937,     0.37037,     0.37137,     0.37237,     0.37337,     0.37437,     0.37538,     0.37638,     0.37738,     0.37838,     0.37938,     0.38038,     0.38138,     0.38238,     0.38338,\n",
       "           0.38438,     0.38539,     0.38639,     0.38739,     0.38839,     0.38939,     0.39039,     0.39139,     0.39239,     0.39339,     0.39439,      0.3954,      0.3964,      0.3974,      0.3984,      0.3994,      0.4004,      0.4014,      0.4024,      0.4034,      0.4044,     0.40541,     0.40641,     0.40741,\n",
       "           0.40841,     0.40941,     0.41041,     0.41141,     0.41241,     0.41341,     0.41441,     0.41542,     0.41642,     0.41742,     0.41842,     0.41942,     0.42042,     0.42142,     0.42242,     0.42342,     0.42442,     0.42543,     0.42643,     0.42743,     0.42843,     0.42943,     0.43043,     0.43143,\n",
       "           0.43243,     0.43343,     0.43443,     0.43544,     0.43644,     0.43744,     0.43844,     0.43944,     0.44044,     0.44144,     0.44244,     0.44344,     0.44444,     0.44545,     0.44645,     0.44745,     0.44845,     0.44945,     0.45045,     0.45145,     0.45245,     0.45345,     0.45445,     0.45546,\n",
       "           0.45646,     0.45746,     0.45846,     0.45946,     0.46046,     0.46146,     0.46246,     0.46346,     0.46446,     0.46547,     0.46647,     0.46747,     0.46847,     0.46947,     0.47047,     0.47147,     0.47247,     0.47347,     0.47447,     0.47548,     0.47648,     0.47748,     0.47848,     0.47948,\n",
       "           0.48048,     0.48148,     0.48248,     0.48348,     0.48448,     0.48549,     0.48649,     0.48749,     0.48849,     0.48949,     0.49049,     0.49149,     0.49249,     0.49349,     0.49449,      0.4955,      0.4965,      0.4975,      0.4985,      0.4995,      0.5005,      0.5015,      0.5025,      0.5035,\n",
       "            0.5045,     0.50551,     0.50651,     0.50751,     0.50851,     0.50951,     0.51051,     0.51151,     0.51251,     0.51351,     0.51451,     0.51552,     0.51652,     0.51752,     0.51852,     0.51952,     0.52052,     0.52152,     0.52252,     0.52352,     0.52452,     0.52553,     0.52653,     0.52753,\n",
       "           0.52853,     0.52953,     0.53053,     0.53153,     0.53253,     0.53353,     0.53453,     0.53554,     0.53654,     0.53754,     0.53854,     0.53954,     0.54054,     0.54154,     0.54254,     0.54354,     0.54454,     0.54555,     0.54655,     0.54755,     0.54855,     0.54955,     0.55055,     0.55155,\n",
       "           0.55255,     0.55355,     0.55455,     0.55556,     0.55656,     0.55756,     0.55856,     0.55956,     0.56056,     0.56156,     0.56256,     0.56356,     0.56456,     0.56557,     0.56657,     0.56757,     0.56857,     0.56957,     0.57057,     0.57157,     0.57257,     0.57357,     0.57457,     0.57558,\n",
       "           0.57658,     0.57758,     0.57858,     0.57958,     0.58058,     0.58158,     0.58258,     0.58358,     0.58458,     0.58559,     0.58659,     0.58759,     0.58859,     0.58959,     0.59059,     0.59159,     0.59259,     0.59359,     0.59459,      0.5956,      0.5966,      0.5976,      0.5986,      0.5996,\n",
       "            0.6006,      0.6016,      0.6026,      0.6036,      0.6046,     0.60561,     0.60661,     0.60761,     0.60861,     0.60961,     0.61061,     0.61161,     0.61261,     0.61361,     0.61461,     0.61562,     0.61662,     0.61762,     0.61862,     0.61962,     0.62062,     0.62162,     0.62262,     0.62362,\n",
       "           0.62462,     0.62563,     0.62663,     0.62763,     0.62863,     0.62963,     0.63063,     0.63163,     0.63263,     0.63363,     0.63463,     0.63564,     0.63664,     0.63764,     0.63864,     0.63964,     0.64064,     0.64164,     0.64264,     0.64364,     0.64464,     0.64565,     0.64665,     0.64765,\n",
       "           0.64865,     0.64965,     0.65065,     0.65165,     0.65265,     0.65365,     0.65465,     0.65566,     0.65666,     0.65766,     0.65866,     0.65966,     0.66066,     0.66166,     0.66266,     0.66366,     0.66466,     0.66567,     0.66667,     0.66767,     0.66867,     0.66967,     0.67067,     0.67167,\n",
       "           0.67267,     0.67367,     0.67467,     0.67568,     0.67668,     0.67768,     0.67868,     0.67968,     0.68068,     0.68168,     0.68268,     0.68368,     0.68468,     0.68569,     0.68669,     0.68769,     0.68869,     0.68969,     0.69069,     0.69169,     0.69269,     0.69369,     0.69469,      0.6957,\n",
       "            0.6967,      0.6977,      0.6987,      0.6997,      0.7007,      0.7017,      0.7027,      0.7037,      0.7047,     0.70571,     0.70671,     0.70771,     0.70871,     0.70971,     0.71071,     0.71171,     0.71271,     0.71371,     0.71471,     0.71572,     0.71672,     0.71772,     0.71872,     0.71972,\n",
       "           0.72072,     0.72172,     0.72272,     0.72372,     0.72472,     0.72573,     0.72673,     0.72773,     0.72873,     0.72973,     0.73073,     0.73173,     0.73273,     0.73373,     0.73473,     0.73574,     0.73674,     0.73774,     0.73874,     0.73974,     0.74074,     0.74174,     0.74274,     0.74374,\n",
       "           0.74474,     0.74575,     0.74675,     0.74775,     0.74875,     0.74975,     0.75075,     0.75175,     0.75275,     0.75375,     0.75475,     0.75576,     0.75676,     0.75776,     0.75876,     0.75976,     0.76076,     0.76176,     0.76276,     0.76376,     0.76476,     0.76577,     0.76677,     0.76777,\n",
       "           0.76877,     0.76977,     0.77077,     0.77177,     0.77277,     0.77377,     0.77477,     0.77578,     0.77678,     0.77778,     0.77878,     0.77978,     0.78078,     0.78178,     0.78278,     0.78378,     0.78478,     0.78579,     0.78679,     0.78779,     0.78879,     0.78979,     0.79079,     0.79179,\n",
       "           0.79279,     0.79379,     0.79479,      0.7958,      0.7968,      0.7978,      0.7988,      0.7998,      0.8008,      0.8018,      0.8028,      0.8038,      0.8048,     0.80581,     0.80681,     0.80781,     0.80881,     0.80981,     0.81081,     0.81181,     0.81281,     0.81381,     0.81481,     0.81582,\n",
       "           0.81682,     0.81782,     0.81882,     0.81982,     0.82082,     0.82182,     0.82282,     0.82382,     0.82482,     0.82583,     0.82683,     0.82783,     0.82883,     0.82983,     0.83083,     0.83183,     0.83283,     0.83383,     0.83483,     0.83584,     0.83684,     0.83784,     0.83884,     0.83984,\n",
       "           0.84084,     0.84184,     0.84284,     0.84384,     0.84484,     0.84585,     0.84685,     0.84785,     0.84885,     0.84985,     0.85085,     0.85185,     0.85285,     0.85385,     0.85485,     0.85586,     0.85686,     0.85786,     0.85886,     0.85986,     0.86086,     0.86186,     0.86286,     0.86386,\n",
       "           0.86486,     0.86587,     0.86687,     0.86787,     0.86887,     0.86987,     0.87087,     0.87187,     0.87287,     0.87387,     0.87487,     0.87588,     0.87688,     0.87788,     0.87888,     0.87988,     0.88088,     0.88188,     0.88288,     0.88388,     0.88488,     0.88589,     0.88689,     0.88789,\n",
       "           0.88889,     0.88989,     0.89089,     0.89189,     0.89289,     0.89389,     0.89489,      0.8959,      0.8969,      0.8979,      0.8989,      0.8999,      0.9009,      0.9019,      0.9029,      0.9039,      0.9049,     0.90591,     0.90691,     0.90791,     0.90891,     0.90991,     0.91091,     0.91191,\n",
       "           0.91291,     0.91391,     0.91491,     0.91592,     0.91692,     0.91792,     0.91892,     0.91992,     0.92092,     0.92192,     0.92292,     0.92392,     0.92492,     0.92593,     0.92693,     0.92793,     0.92893,     0.92993,     0.93093,     0.93193,     0.93293,     0.93393,     0.93493,     0.93594,\n",
       "           0.93694,     0.93794,     0.93894,     0.93994,     0.94094,     0.94194,     0.94294,     0.94394,     0.94494,     0.94595,     0.94695,     0.94795,     0.94895,     0.94995,     0.95095,     0.95195,     0.95295,     0.95395,     0.95495,     0.95596,     0.95696,     0.95796,     0.95896,     0.95996,\n",
       "           0.96096,     0.96196,     0.96296,     0.96396,     0.96496,     0.96597,     0.96697,     0.96797,     0.96897,     0.96997,     0.97097,     0.97197,     0.97297,     0.97397,     0.97497,     0.97598,     0.97698,     0.97798,     0.97898,     0.97998,     0.98098,     0.98198,     0.98298,     0.98398,\n",
       "           0.98498,     0.98599,     0.98699,     0.98799,     0.98899,     0.98999,     0.99099,     0.99199,     0.99299,     0.99399,     0.99499,       0.996,       0.997,       0.998,       0.999,           1]), array([[  0.0033333,   0.0033333,   0.0040809,   0.0050655,   0.0053015,   0.0060036,   0.0089243,    0.018623,      0.0397,    0.070308,     0.10372,     0.15646,     0.20127,     0.23379,     0.27714,     0.32357,     0.35989,     0.41661,     0.47086,     0.48698,      0.4964,     0.50804,     0.54238,\n",
       "            0.55831,     0.58829,     0.60674,     0.62184,     0.63209,     0.64233,     0.65059,     0.65296,     0.65532,     0.65768,     0.66004,      0.6624,     0.66476,     0.66712,     0.66948,     0.67184,      0.6742,     0.67656,     0.67892,     0.68128,     0.68364,     0.68889,     0.69506,\n",
       "            0.70122,     0.70739,     0.71356,     0.71973,     0.72277,     0.72368,      0.7246,     0.72551,     0.72643,     0.72734,     0.72826,     0.72917,     0.73009,     0.73101,     0.73192,     0.73284,     0.73375,     0.73467,     0.73558,      0.7365,     0.73741,     0.73833,     0.73924,\n",
       "            0.74016,     0.74107,     0.74199,      0.7429,     0.74382,     0.74473,     0.74565,     0.74656,     0.74748,     0.74839,     0.74931,     0.75022,     0.75114,     0.75206,     0.75297,     0.75389,      0.7548,     0.75572,     0.75663,     0.75755,     0.75846,     0.75938,     0.76029,\n",
       "            0.76121,     0.76212,     0.76304,     0.76395,     0.76729,     0.78187,     0.79645,     0.81103,      0.8145,     0.81672,     0.81894,     0.82116,     0.82338,      0.8256,     0.82782,     0.83004,     0.83226,     0.83449,     0.83671,     0.83893,     0.84115,     0.84337,     0.84559,\n",
       "            0.84781,     0.85003,     0.85225,     0.85448,      0.8567,     0.85892,     0.86114,     0.86336,     0.86558,     0.86697,     0.86755,     0.86814,     0.86873,     0.86931,      0.8699,     0.87049,     0.87107,     0.87166,     0.87225,     0.87284,     0.87342,     0.87401,      0.8746,\n",
       "            0.87518,     0.87577,     0.87636,     0.87694,     0.87753,     0.87812,      0.8787,     0.87929,     0.87988,     0.88047,     0.88105,     0.88164,     0.88223,     0.88281,      0.8834,     0.88399,     0.88457,     0.88516,     0.88575,     0.88633,     0.88692,     0.88751,      0.8881,\n",
       "            0.88868,     0.88927,     0.88986,     0.89044,     0.89103,     0.89162,      0.8922,     0.89279,     0.89338,     0.89396,     0.89455,     0.89514,     0.89573,     0.89631,      0.8969,     0.89749,     0.89807,     0.89866,     0.89925,     0.89983,     0.90042,     0.90101,     0.90159,\n",
       "            0.90218,     0.90277,     0.90336,     0.90394,     0.90453,     0.90512,      0.9057,     0.90629,     0.90688,     0.90746,     0.90805,     0.90864,     0.90922,     0.90981,      0.9104,     0.91099,     0.91157,     0.91216,     0.91275,     0.91333,     0.91392,     0.91451,     0.91509,\n",
       "            0.91568,     0.91627,     0.91685,     0.91744,     0.91803,     0.91862,      0.9192,     0.91979,     0.92038,     0.92096,     0.92155,     0.92214,     0.92272,     0.92331,      0.9239,     0.92448,     0.92507,     0.92566,     0.92624,     0.92683,     0.92742,     0.92801,     0.92857,\n",
       "            0.92856,     0.92855,     0.92854,     0.92853,     0.92852,      0.9285,     0.92849,     0.92848,     0.92847,     0.92846,     0.92845,     0.92844,     0.92843,     0.92842,     0.92841,     0.92839,     0.92838,     0.92837,     0.92836,     0.92835,     0.92834,     0.92833,     0.92832,\n",
       "            0.92831,     0.92829,     0.92828,     0.92827,     0.92826,     0.92825,     0.92824,     0.92823,     0.92822,     0.92821,      0.9282,     0.92818,     0.92817,     0.92816,     0.92815,     0.92814,     0.92813,     0.92812,     0.92811,      0.9281,     0.92809,     0.92807,     0.92806,\n",
       "            0.92805,     0.92804,     0.92803,     0.92802,     0.92801,       0.928,     0.92799,     0.92797,     0.92796,     0.92795,     0.92794,     0.92793,     0.92792,     0.92791,      0.9279,     0.92789,     0.92788,     0.92786,     0.92785,     0.92784,     0.92783,     0.92782,     0.92781,\n",
       "             0.9278,     0.92779,     0.92778,     0.92776,     0.92775,     0.92774,     0.92773,     0.92772,     0.92771,      0.9277,     0.92769,     0.92768,     0.92767,     0.92765,     0.92764,     0.92763,     0.92762,     0.92761,      0.9276,     0.92759,     0.92758,     0.92757,     0.92755,\n",
       "            0.92754,     0.92753,     0.92752,     0.92751,      0.9275,     0.92749,     0.92748,     0.92747,     0.92746,     0.92744,     0.92743,     0.92742,     0.92741,      0.9274,     0.92739,     0.92738,     0.92737,     0.92736,     0.92735,     0.92733,     0.92732,     0.92731,      0.9273,\n",
       "            0.92729,     0.92728,     0.92727,     0.92726,     0.92725,     0.92723,     0.92722,     0.92721,      0.9272,     0.92719,     0.92718,     0.92717,     0.92716,     0.92715,     0.92714,     0.92712,     0.92711,      0.9271,     0.92709,     0.92708,     0.92707,     0.92706,     0.92705,\n",
       "            0.92704,     0.92702,     0.92701,       0.927,     0.92699,     0.92698,     0.92697,     0.92696,     0.92695,     0.92694,     0.92693,     0.92691,      0.9269,     0.92689,     0.92688,     0.92687,     0.92686,     0.92685,     0.92684,     0.92683,     0.92682,      0.9268,     0.92679,\n",
       "            0.92678,     0.92677,     0.92676,     0.92675,     0.92674,     0.92673,     0.92672,      0.9267,     0.92669,     0.92668,     0.92667,     0.92666,     0.92665,     0.92664,     0.92663,     0.92662,     0.92661,     0.92659,     0.92658,     0.92657,     0.92656,     0.92655,     0.92654,\n",
       "            0.92653,     0.92652,     0.92651,     0.92649,     0.92648,     0.92647,     0.92646,     0.92645,     0.92644,     0.92643,     0.92642,     0.92641,      0.9264,     0.92638,     0.92637,     0.92636,     0.92635,     0.92634,     0.92633,     0.92632,     0.92631,      0.9263,     0.92628,\n",
       "            0.92627,     0.92626,     0.92625,     0.92624,     0.92623,     0.92622,     0.92621,      0.9262,     0.92619,     0.92617,     0.92616,     0.92615,     0.92614,     0.92613,     0.92612,     0.92611,      0.9261,     0.92609,     0.92608,     0.92606,     0.92605,     0.92604,     0.92603,\n",
       "            0.92602,     0.92601,       0.926,     0.92599,     0.92598,     0.92596,     0.92595,     0.92594,     0.92593,     0.92592,     0.92591,      0.9259,     0.92589,     0.92588,     0.92587,     0.92585,     0.92584,     0.92583,     0.92582,     0.92581,      0.9258,     0.92579,     0.92578,\n",
       "            0.92577,     0.92575,     0.92574,     0.92573,     0.92572,     0.92571,      0.9257,     0.92569,     0.92568,     0.92567,     0.92566,     0.92564,     0.92563,     0.92562,     0.92561,      0.9256,     0.92559,     0.92558,     0.92557,     0.92556,     0.92554,     0.92553,     0.92552,\n",
       "            0.92551,      0.9255,     0.92549,     0.92548,     0.92547,     0.92546,     0.92545,     0.92543,     0.92542,     0.92541,      0.9254,     0.92539,     0.92538,     0.92537,     0.92536,     0.92535,     0.92534,     0.92532,     0.92531,      0.9253,     0.92529,     0.92528,     0.92527,\n",
       "            0.92526,     0.92525,     0.92524,     0.92522,     0.92521,      0.9252,     0.92519,     0.92518,     0.92517,     0.92516,     0.92515,     0.92514,     0.92513,     0.92511,      0.9251,     0.92509,     0.92508,     0.92507,     0.92506,     0.92505,     0.92504,     0.92503,     0.92501,\n",
       "              0.925,     0.92499,     0.92498,     0.92497,     0.92496,     0.92495,     0.92494,     0.92493,     0.92492,      0.9249,     0.92489,     0.92488,     0.92487,     0.92486,     0.92485,     0.92484,     0.92483,     0.92482,     0.92481,     0.92479,     0.92478,     0.92477,     0.92476,\n",
       "            0.92475,     0.92474,     0.92473,     0.92472,     0.92471,     0.92469,     0.92468,     0.92467,     0.92466,     0.92465,     0.92464,     0.92463,     0.92462,     0.92461,      0.9246,     0.92458,     0.92457,     0.92456,     0.92455,     0.92454,     0.92453,     0.92452,     0.92451,\n",
       "             0.9245,     0.92448,     0.92447,     0.92446,     0.92445,     0.92444,     0.92443,     0.92442,     0.92441,      0.9244,     0.92439,     0.92437,     0.92436,     0.92435,     0.92434,     0.92433,     0.92432,     0.92431,      0.9243,     0.92429,     0.92427,     0.92426,     0.92425,\n",
       "            0.92424,     0.92423,     0.92422,     0.92421,      0.9242,     0.92419,     0.92418,     0.92416,     0.92415,     0.92414,     0.92413,     0.92412,     0.92411,      0.9241,     0.92409,     0.92408,     0.92407,     0.92405,     0.92404,     0.92403,     0.92402,     0.92401,       0.924,\n",
       "            0.92399,     0.92398,     0.92397,     0.92395,     0.92394,     0.92393,     0.92392,     0.92391,      0.9239,     0.92389,     0.92388,     0.92387,     0.92386,     0.92384,     0.92383,     0.92382,     0.92381,      0.9238,     0.92379,     0.92378,     0.92377,     0.92376,     0.92374,\n",
       "            0.92373,     0.92372,     0.92371,      0.9237,     0.92369,     0.92368,     0.92367,     0.92366,     0.92365,     0.92363,     0.92362,     0.92361,      0.9236,     0.92359,     0.92358,     0.92357,     0.92356,     0.92355,     0.92354,     0.92352,     0.92351,      0.9235,     0.92349,\n",
       "            0.92348,     0.92347,     0.92346,     0.92345,     0.92344,     0.92342,     0.92341,      0.9234,     0.92339,     0.92338,     0.92337,     0.92336,     0.92335,     0.92334,     0.92333,     0.92331,      0.9233,     0.92329,     0.92328,     0.92327,     0.92326,     0.92325,     0.92324,\n",
       "            0.92323,     0.92321,      0.9232,     0.92319,     0.92318,     0.92317,     0.92316,     0.92315,     0.92314,     0.92313,     0.92312,      0.9231,     0.92309,     0.92308,     0.92332,     0.92378,     0.92424,     0.92471,     0.92517,     0.92563,     0.92609,     0.92655,     0.92702,\n",
       "            0.92748,     0.92794,      0.9284,     0.92887,     0.92933,     0.92979,     0.93025,     0.93072,     0.93118,     0.93164,      0.9321,     0.93256,     0.93303,     0.93349,     0.93395,     0.93441,     0.93488,     0.93534,      0.9358,     0.93626,     0.93673,     0.93719,     0.93765,\n",
       "            0.93811,     0.93857,     0.93904,      0.9395,     0.93996,     0.94042,     0.94089,     0.94135,     0.94181,     0.94227,     0.94274,      0.9432,     0.94366,     0.94412,     0.94458,     0.94505,     0.94551,     0.94597,     0.94643,      0.9469,     0.94736,     0.94782,     0.94828,\n",
       "            0.94875,     0.94921,     0.94967,     0.95013,      0.9506,     0.95106,     0.95152,     0.95198,     0.95244,     0.95291,     0.95337,     0.95383,     0.95429,     0.95476,     0.95522,     0.95568,     0.95614,     0.95661,     0.95707,     0.95753,     0.95799,     0.95845,     0.95892,\n",
       "            0.95938,     0.95984,      0.9603,     0.96077,     0.96123,     0.96169,     0.96215,     0.96262,     0.96308,     0.96354,       0.964,     0.96446,     0.96493,     0.96539,     0.96585,     0.96631,     0.96678,     0.96724,      0.9677,     0.96816,     0.96863,     0.96909,     0.96955,\n",
       "            0.97001,     0.97047,     0.97094,      0.9714,     0.97186,     0.97232,     0.97279,     0.97325,     0.97371,     0.97417,     0.97464,      0.9751,     0.97556,     0.97602,     0.97648,     0.97695,     0.97741,     0.97787,     0.97833,      0.9788,     0.97926,     0.97972,     0.98018,\n",
       "            0.98065,     0.98111,     0.98157,     0.98203,      0.9825,     0.98296,     0.98342,     0.98388,     0.98434,     0.98481,     0.98527,     0.98573,     0.98619,     0.98666,     0.98712,     0.98758,     0.98804,     0.98851,     0.98897,     0.98943,     0.98989,     0.99035,     0.99082,\n",
       "            0.99128,     0.99174,      0.9922,     0.99267,     0.99313,     0.99359,     0.99405,     0.99452,     0.99498,     0.99544,      0.9959,     0.99636,     0.99683,     0.99729,     0.99775,     0.99821,     0.99868,     0.99914,      0.9996,           1,           1,           1,           1,\n",
       "                  1,           1,           1,           1,           1,           1,           1,           1,           1,           1,           1,           1,           1,           1,           1,           1,           1,           1,           1,           1,           1,           1,           1,\n",
       "                  1,           1,           1,           1,           1,           1,           1,           1,           1,           1,           1,           1,           1,           1,           1,           1,           1,           1,           1,           1,           1,           1,           1,\n",
       "                  1,           1,           1,           1,           1,           1,           1,           1,           1,           1,           1,           1,           1,           1,           1,           1,           1,           1,           1,           1,           1,           1,           1,\n",
       "                  1,           1,           1,           1,           1,           1,           1,           1,           1,           1,           1,           1,           1,           1,           1,           1,           1,           1,           1,           1,           1,           1,           1,\n",
       "                  1,           1,           1,           1,           1,           1,           1,           1,           1,           1,           1]]), 'Confidence', 'Precision'], [array([          0,    0.001001,    0.002002,    0.003003,    0.004004,    0.005005,    0.006006,    0.007007,    0.008008,    0.009009,     0.01001,    0.011011,    0.012012,    0.013013,    0.014014,    0.015015,    0.016016,    0.017017,    0.018018,    0.019019,     0.02002,    0.021021,    0.022022,    0.023023,\n",
       "          0.024024,    0.025025,    0.026026,    0.027027,    0.028028,    0.029029,     0.03003,    0.031031,    0.032032,    0.033033,    0.034034,    0.035035,    0.036036,    0.037037,    0.038038,    0.039039,     0.04004,    0.041041,    0.042042,    0.043043,    0.044044,    0.045045,    0.046046,    0.047047,\n",
       "          0.048048,    0.049049,     0.05005,    0.051051,    0.052052,    0.053053,    0.054054,    0.055055,    0.056056,    0.057057,    0.058058,    0.059059,     0.06006,    0.061061,    0.062062,    0.063063,    0.064064,    0.065065,    0.066066,    0.067067,    0.068068,    0.069069,     0.07007,    0.071071,\n",
       "          0.072072,    0.073073,    0.074074,    0.075075,    0.076076,    0.077077,    0.078078,    0.079079,     0.08008,    0.081081,    0.082082,    0.083083,    0.084084,    0.085085,    0.086086,    0.087087,    0.088088,    0.089089,     0.09009,    0.091091,    0.092092,    0.093093,    0.094094,    0.095095,\n",
       "          0.096096,    0.097097,    0.098098,    0.099099,      0.1001,      0.1011,      0.1021,      0.1031,      0.1041,     0.10511,     0.10611,     0.10711,     0.10811,     0.10911,     0.11011,     0.11111,     0.11211,     0.11311,     0.11411,     0.11512,     0.11612,     0.11712,     0.11812,     0.11912,\n",
       "           0.12012,     0.12112,     0.12212,     0.12312,     0.12412,     0.12513,     0.12613,     0.12713,     0.12813,     0.12913,     0.13013,     0.13113,     0.13213,     0.13313,     0.13413,     0.13514,     0.13614,     0.13714,     0.13814,     0.13914,     0.14014,     0.14114,     0.14214,     0.14314,\n",
       "           0.14414,     0.14515,     0.14615,     0.14715,     0.14815,     0.14915,     0.15015,     0.15115,     0.15215,     0.15315,     0.15415,     0.15516,     0.15616,     0.15716,     0.15816,     0.15916,     0.16016,     0.16116,     0.16216,     0.16316,     0.16416,     0.16517,     0.16617,     0.16717,\n",
       "           0.16817,     0.16917,     0.17017,     0.17117,     0.17217,     0.17317,     0.17417,     0.17518,     0.17618,     0.17718,     0.17818,     0.17918,     0.18018,     0.18118,     0.18218,     0.18318,     0.18418,     0.18519,     0.18619,     0.18719,     0.18819,     0.18919,     0.19019,     0.19119,\n",
       "           0.19219,     0.19319,     0.19419,      0.1952,      0.1962,      0.1972,      0.1982,      0.1992,      0.2002,      0.2012,      0.2022,      0.2032,      0.2042,     0.20521,     0.20621,     0.20721,     0.20821,     0.20921,     0.21021,     0.21121,     0.21221,     0.21321,     0.21421,     0.21522,\n",
       "           0.21622,     0.21722,     0.21822,     0.21922,     0.22022,     0.22122,     0.22222,     0.22322,     0.22422,     0.22523,     0.22623,     0.22723,     0.22823,     0.22923,     0.23023,     0.23123,     0.23223,     0.23323,     0.23423,     0.23524,     0.23624,     0.23724,     0.23824,     0.23924,\n",
       "           0.24024,     0.24124,     0.24224,     0.24324,     0.24424,     0.24525,     0.24625,     0.24725,     0.24825,     0.24925,     0.25025,     0.25125,     0.25225,     0.25325,     0.25425,     0.25526,     0.25626,     0.25726,     0.25826,     0.25926,     0.26026,     0.26126,     0.26226,     0.26326,\n",
       "           0.26426,     0.26527,     0.26627,     0.26727,     0.26827,     0.26927,     0.27027,     0.27127,     0.27227,     0.27327,     0.27427,     0.27528,     0.27628,     0.27728,     0.27828,     0.27928,     0.28028,     0.28128,     0.28228,     0.28328,     0.28428,     0.28529,     0.28629,     0.28729,\n",
       "           0.28829,     0.28929,     0.29029,     0.29129,     0.29229,     0.29329,     0.29429,      0.2953,      0.2963,      0.2973,      0.2983,      0.2993,      0.3003,      0.3013,      0.3023,      0.3033,      0.3043,     0.30531,     0.30631,     0.30731,     0.30831,     0.30931,     0.31031,     0.31131,\n",
       "           0.31231,     0.31331,     0.31431,     0.31532,     0.31632,     0.31732,     0.31832,     0.31932,     0.32032,     0.32132,     0.32232,     0.32332,     0.32432,     0.32533,     0.32633,     0.32733,     0.32833,     0.32933,     0.33033,     0.33133,     0.33233,     0.33333,     0.33433,     0.33534,\n",
       "           0.33634,     0.33734,     0.33834,     0.33934,     0.34034,     0.34134,     0.34234,     0.34334,     0.34434,     0.34535,     0.34635,     0.34735,     0.34835,     0.34935,     0.35035,     0.35135,     0.35235,     0.35335,     0.35435,     0.35536,     0.35636,     0.35736,     0.35836,     0.35936,\n",
       "           0.36036,     0.36136,     0.36236,     0.36336,     0.36436,     0.36537,     0.36637,     0.36737,     0.36837,     0.36937,     0.37037,     0.37137,     0.37237,     0.37337,     0.37437,     0.37538,     0.37638,     0.37738,     0.37838,     0.37938,     0.38038,     0.38138,     0.38238,     0.38338,\n",
       "           0.38438,     0.38539,     0.38639,     0.38739,     0.38839,     0.38939,     0.39039,     0.39139,     0.39239,     0.39339,     0.39439,      0.3954,      0.3964,      0.3974,      0.3984,      0.3994,      0.4004,      0.4014,      0.4024,      0.4034,      0.4044,     0.40541,     0.40641,     0.40741,\n",
       "           0.40841,     0.40941,     0.41041,     0.41141,     0.41241,     0.41341,     0.41441,     0.41542,     0.41642,     0.41742,     0.41842,     0.41942,     0.42042,     0.42142,     0.42242,     0.42342,     0.42442,     0.42543,     0.42643,     0.42743,     0.42843,     0.42943,     0.43043,     0.43143,\n",
       "           0.43243,     0.43343,     0.43443,     0.43544,     0.43644,     0.43744,     0.43844,     0.43944,     0.44044,     0.44144,     0.44244,     0.44344,     0.44444,     0.44545,     0.44645,     0.44745,     0.44845,     0.44945,     0.45045,     0.45145,     0.45245,     0.45345,     0.45445,     0.45546,\n",
       "           0.45646,     0.45746,     0.45846,     0.45946,     0.46046,     0.46146,     0.46246,     0.46346,     0.46446,     0.46547,     0.46647,     0.46747,     0.46847,     0.46947,     0.47047,     0.47147,     0.47247,     0.47347,     0.47447,     0.47548,     0.47648,     0.47748,     0.47848,     0.47948,\n",
       "           0.48048,     0.48148,     0.48248,     0.48348,     0.48448,     0.48549,     0.48649,     0.48749,     0.48849,     0.48949,     0.49049,     0.49149,     0.49249,     0.49349,     0.49449,      0.4955,      0.4965,      0.4975,      0.4985,      0.4995,      0.5005,      0.5015,      0.5025,      0.5035,\n",
       "            0.5045,     0.50551,     0.50651,     0.50751,     0.50851,     0.50951,     0.51051,     0.51151,     0.51251,     0.51351,     0.51451,     0.51552,     0.51652,     0.51752,     0.51852,     0.51952,     0.52052,     0.52152,     0.52252,     0.52352,     0.52452,     0.52553,     0.52653,     0.52753,\n",
       "           0.52853,     0.52953,     0.53053,     0.53153,     0.53253,     0.53353,     0.53453,     0.53554,     0.53654,     0.53754,     0.53854,     0.53954,     0.54054,     0.54154,     0.54254,     0.54354,     0.54454,     0.54555,     0.54655,     0.54755,     0.54855,     0.54955,     0.55055,     0.55155,\n",
       "           0.55255,     0.55355,     0.55455,     0.55556,     0.55656,     0.55756,     0.55856,     0.55956,     0.56056,     0.56156,     0.56256,     0.56356,     0.56456,     0.56557,     0.56657,     0.56757,     0.56857,     0.56957,     0.57057,     0.57157,     0.57257,     0.57357,     0.57457,     0.57558,\n",
       "           0.57658,     0.57758,     0.57858,     0.57958,     0.58058,     0.58158,     0.58258,     0.58358,     0.58458,     0.58559,     0.58659,     0.58759,     0.58859,     0.58959,     0.59059,     0.59159,     0.59259,     0.59359,     0.59459,      0.5956,      0.5966,      0.5976,      0.5986,      0.5996,\n",
       "            0.6006,      0.6016,      0.6026,      0.6036,      0.6046,     0.60561,     0.60661,     0.60761,     0.60861,     0.60961,     0.61061,     0.61161,     0.61261,     0.61361,     0.61461,     0.61562,     0.61662,     0.61762,     0.61862,     0.61962,     0.62062,     0.62162,     0.62262,     0.62362,\n",
       "           0.62462,     0.62563,     0.62663,     0.62763,     0.62863,     0.62963,     0.63063,     0.63163,     0.63263,     0.63363,     0.63463,     0.63564,     0.63664,     0.63764,     0.63864,     0.63964,     0.64064,     0.64164,     0.64264,     0.64364,     0.64464,     0.64565,     0.64665,     0.64765,\n",
       "           0.64865,     0.64965,     0.65065,     0.65165,     0.65265,     0.65365,     0.65465,     0.65566,     0.65666,     0.65766,     0.65866,     0.65966,     0.66066,     0.66166,     0.66266,     0.66366,     0.66466,     0.66567,     0.66667,     0.66767,     0.66867,     0.66967,     0.67067,     0.67167,\n",
       "           0.67267,     0.67367,     0.67467,     0.67568,     0.67668,     0.67768,     0.67868,     0.67968,     0.68068,     0.68168,     0.68268,     0.68368,     0.68468,     0.68569,     0.68669,     0.68769,     0.68869,     0.68969,     0.69069,     0.69169,     0.69269,     0.69369,     0.69469,      0.6957,\n",
       "            0.6967,      0.6977,      0.6987,      0.6997,      0.7007,      0.7017,      0.7027,      0.7037,      0.7047,     0.70571,     0.70671,     0.70771,     0.70871,     0.70971,     0.71071,     0.71171,     0.71271,     0.71371,     0.71471,     0.71572,     0.71672,     0.71772,     0.71872,     0.71972,\n",
       "           0.72072,     0.72172,     0.72272,     0.72372,     0.72472,     0.72573,     0.72673,     0.72773,     0.72873,     0.72973,     0.73073,     0.73173,     0.73273,     0.73373,     0.73473,     0.73574,     0.73674,     0.73774,     0.73874,     0.73974,     0.74074,     0.74174,     0.74274,     0.74374,\n",
       "           0.74474,     0.74575,     0.74675,     0.74775,     0.74875,     0.74975,     0.75075,     0.75175,     0.75275,     0.75375,     0.75475,     0.75576,     0.75676,     0.75776,     0.75876,     0.75976,     0.76076,     0.76176,     0.76276,     0.76376,     0.76476,     0.76577,     0.76677,     0.76777,\n",
       "           0.76877,     0.76977,     0.77077,     0.77177,     0.77277,     0.77377,     0.77477,     0.77578,     0.77678,     0.77778,     0.77878,     0.77978,     0.78078,     0.78178,     0.78278,     0.78378,     0.78478,     0.78579,     0.78679,     0.78779,     0.78879,     0.78979,     0.79079,     0.79179,\n",
       "           0.79279,     0.79379,     0.79479,      0.7958,      0.7968,      0.7978,      0.7988,      0.7998,      0.8008,      0.8018,      0.8028,      0.8038,      0.8048,     0.80581,     0.80681,     0.80781,     0.80881,     0.80981,     0.81081,     0.81181,     0.81281,     0.81381,     0.81481,     0.81582,\n",
       "           0.81682,     0.81782,     0.81882,     0.81982,     0.82082,     0.82182,     0.82282,     0.82382,     0.82482,     0.82583,     0.82683,     0.82783,     0.82883,     0.82983,     0.83083,     0.83183,     0.83283,     0.83383,     0.83483,     0.83584,     0.83684,     0.83784,     0.83884,     0.83984,\n",
       "           0.84084,     0.84184,     0.84284,     0.84384,     0.84484,     0.84585,     0.84685,     0.84785,     0.84885,     0.84985,     0.85085,     0.85185,     0.85285,     0.85385,     0.85485,     0.85586,     0.85686,     0.85786,     0.85886,     0.85986,     0.86086,     0.86186,     0.86286,     0.86386,\n",
       "           0.86486,     0.86587,     0.86687,     0.86787,     0.86887,     0.86987,     0.87087,     0.87187,     0.87287,     0.87387,     0.87487,     0.87588,     0.87688,     0.87788,     0.87888,     0.87988,     0.88088,     0.88188,     0.88288,     0.88388,     0.88488,     0.88589,     0.88689,     0.88789,\n",
       "           0.88889,     0.88989,     0.89089,     0.89189,     0.89289,     0.89389,     0.89489,      0.8959,      0.8969,      0.8979,      0.8989,      0.8999,      0.9009,      0.9019,      0.9029,      0.9039,      0.9049,     0.90591,     0.90691,     0.90791,     0.90891,     0.90991,     0.91091,     0.91191,\n",
       "           0.91291,     0.91391,     0.91491,     0.91592,     0.91692,     0.91792,     0.91892,     0.91992,     0.92092,     0.92192,     0.92292,     0.92392,     0.92492,     0.92593,     0.92693,     0.92793,     0.92893,     0.92993,     0.93093,     0.93193,     0.93293,     0.93393,     0.93493,     0.93594,\n",
       "           0.93694,     0.93794,     0.93894,     0.93994,     0.94094,     0.94194,     0.94294,     0.94394,     0.94494,     0.94595,     0.94695,     0.94795,     0.94895,     0.94995,     0.95095,     0.95195,     0.95295,     0.95395,     0.95495,     0.95596,     0.95696,     0.95796,     0.95896,     0.95996,\n",
       "           0.96096,     0.96196,     0.96296,     0.96396,     0.96496,     0.96597,     0.96697,     0.96797,     0.96897,     0.96997,     0.97097,     0.97197,     0.97297,     0.97397,     0.97497,     0.97598,     0.97698,     0.97798,     0.97898,     0.97998,     0.98098,     0.98198,     0.98298,     0.98398,\n",
       "           0.98498,     0.98599,     0.98699,     0.98799,     0.98899,     0.98999,     0.99099,     0.99199,     0.99299,     0.99399,     0.99499,       0.996,       0.997,       0.998,       0.999,           1]), array([[          1,           1,           1,           1,           1,           1,           1,           1,           1,           1,           1,           1,           1,           1,           1,           1,           1,           1,           1,           1,           1,           1,           1,\n",
       "                  1,           1,           1,           1,           1,           1,           1,           1,           1,           1,           1,           1,           1,           1,           1,           1,           1,           1,           1,           1,           1,           1,           1,\n",
       "                  1,           1,           1,           1,           1,           1,           1,           1,           1,           1,           1,           1,           1,           1,           1,           1,           1,           1,           1,           1,           1,           1,           1,\n",
       "                  1,           1,           1,           1,           1,           1,           1,           1,           1,           1,           1,           1,           1,           1,           1,           1,           1,           1,           1,           1,           1,           1,           1,\n",
       "                  1,           1,           1,           1,           1,           1,           1,           1,           1,           1,           1,           1,           1,           1,           1,           1,           1,           1,           1,           1,           1,           1,           1,\n",
       "                  1,           1,           1,           1,           1,           1,           1,           1,           1,           1,           1,           1,           1,           1,           1,           1,           1,           1,           1,           1,           1,           1,           1,\n",
       "                  1,           1,           1,           1,           1,           1,           1,           1,           1,           1,           1,           1,           1,           1,           1,           1,           1,           1,           1,           1,           1,           1,           1,\n",
       "                  1,           1,           1,           1,           1,           1,           1,           1,           1,           1,           1,           1,           1,           1,           1,           1,           1,           1,           1,           1,           1,           1,           1,\n",
       "                  1,           1,           1,           1,           1,           1,           1,           1,           1,           1,           1,           1,           1,           1,           1,           1,           1,           1,           1,           1,           1,           1,           1,\n",
       "                  1,           1,           1,           1,           1,           1,           1,           1,           1,           1,           1,           1,           1,           1,           1,           1,           1,           1,           1,           1,           1,           1,     0.99999,\n",
       "            0.99984,     0.99969,     0.99953,     0.99938,     0.99922,     0.99907,     0.99891,     0.99876,      0.9986,     0.99845,     0.99829,     0.99814,     0.99798,     0.99783,     0.99768,     0.99752,     0.99737,     0.99721,     0.99706,      0.9969,     0.99675,     0.99659,     0.99644,\n",
       "            0.99628,     0.99613,     0.99597,     0.99582,     0.99567,     0.99551,     0.99536,      0.9952,     0.99505,     0.99489,     0.99474,     0.99458,     0.99443,     0.99427,     0.99412,     0.99396,     0.99381,     0.99366,      0.9935,     0.99335,     0.99319,     0.99304,     0.99288,\n",
       "            0.99273,     0.99257,     0.99242,     0.99226,     0.99211,     0.99195,      0.9918,     0.99165,     0.99149,     0.99134,     0.99118,     0.99103,     0.99087,     0.99072,     0.99056,     0.99041,     0.99025,      0.9901,     0.98994,     0.98979,     0.98964,     0.98948,     0.98933,\n",
       "            0.98917,     0.98902,     0.98886,     0.98871,     0.98855,      0.9884,     0.98824,     0.98809,     0.98793,     0.98778,     0.98763,     0.98747,     0.98732,     0.98716,     0.98701,     0.98685,      0.9867,     0.98654,     0.98639,     0.98623,     0.98608,     0.98592,     0.98577,\n",
       "            0.98562,     0.98546,     0.98531,     0.98515,       0.985,     0.98484,     0.98469,     0.98453,     0.98438,     0.98422,     0.98407,     0.98391,     0.98376,     0.98361,     0.98345,      0.9833,     0.98314,     0.98299,     0.98283,     0.98268,     0.98252,     0.98237,     0.98221,\n",
       "            0.98206,      0.9819,     0.98175,      0.9816,     0.98144,     0.98129,     0.98113,     0.98098,     0.98082,     0.98067,     0.98051,     0.98036,      0.9802,     0.98005,     0.97989,     0.97974,     0.97959,     0.97943,     0.97928,     0.97912,     0.97897,     0.97881,     0.97866,\n",
       "             0.9785,     0.97835,     0.97819,     0.97804,     0.97788,     0.97773,     0.97758,     0.97742,     0.97727,     0.97711,     0.97696,      0.9768,     0.97665,     0.97649,     0.97634,     0.97618,     0.97603,     0.97587,     0.97572,     0.97557,     0.97541,     0.97526,      0.9751,\n",
       "            0.97495,     0.97479,     0.97464,     0.97448,     0.97433,     0.97417,     0.97402,     0.97386,     0.97371,     0.97356,      0.9734,     0.97325,     0.97309,     0.97294,     0.97278,     0.97263,     0.97247,     0.97232,     0.97216,     0.97201,     0.97185,      0.9717,     0.97155,\n",
       "            0.97139,     0.97124,     0.97108,     0.97093,     0.97077,     0.97062,     0.97046,     0.97031,     0.97015,        0.97,     0.96984,     0.96969,     0.96954,     0.96938,     0.96923,     0.96907,     0.96892,     0.96876,     0.96861,     0.96845,      0.9683,     0.96814,     0.96799,\n",
       "            0.96783,     0.96768,     0.96753,     0.96737,     0.96722,     0.96706,     0.96691,     0.96675,      0.9666,     0.96644,     0.96629,     0.96613,     0.96598,     0.96582,     0.96567,     0.96552,     0.96536,     0.96521,     0.96505,      0.9649,     0.96474,     0.96459,     0.96443,\n",
       "            0.96428,     0.96412,     0.96397,     0.96381,     0.96366,     0.96351,     0.96335,      0.9632,     0.96304,     0.96289,     0.96273,     0.96258,     0.96242,     0.96227,     0.96211,     0.96196,      0.9618,     0.96165,      0.9615,     0.96134,     0.96119,     0.96103,     0.96088,\n",
       "            0.96072,     0.96057,     0.96041,     0.96026,      0.9601,     0.95995,     0.95979,     0.95964,     0.95949,     0.95933,     0.95918,     0.95902,     0.95887,     0.95871,     0.95856,      0.9584,     0.95825,     0.95809,     0.95794,     0.95778,     0.95763,     0.95748,     0.95732,\n",
       "            0.95717,     0.95701,     0.95686,      0.9567,     0.95655,     0.95639,     0.95624,     0.95608,     0.95593,     0.95577,     0.95562,     0.95547,     0.95531,     0.95516,       0.955,     0.95485,     0.95469,     0.95454,     0.95438,     0.95423,     0.95407,     0.95392,     0.95376,\n",
       "            0.95361,     0.95346,      0.9533,     0.95315,     0.95299,     0.95284,     0.95268,     0.95253,     0.95237,     0.95222,     0.95206,     0.95191,     0.95175,      0.9516,     0.95145,     0.95129,     0.95114,     0.95098,     0.95083,     0.95067,     0.95052,     0.95036,     0.95021,\n",
       "            0.95005,      0.9499,     0.94974,     0.94959,     0.94944,     0.94928,     0.94913,     0.94897,     0.94882,     0.94866,     0.94851,     0.94835,      0.9482,     0.94804,     0.94789,     0.94773,     0.94758,     0.94743,     0.94727,     0.94712,     0.94696,     0.94681,     0.94665,\n",
       "             0.9465,     0.94634,     0.94619,     0.94603,     0.94588,     0.94572,     0.94557,     0.94542,     0.94526,     0.94511,     0.94495,      0.9448,     0.94464,     0.94449,     0.94433,     0.94418,     0.94402,     0.94387,     0.94371,     0.94356,     0.94341,     0.94325,      0.9431,\n",
       "            0.94294,     0.94279,     0.94263,     0.94248,     0.94232,     0.94217,     0.94201,     0.94186,      0.9417,     0.94155,      0.9414,     0.94124,     0.94109,     0.94093,     0.94078,     0.94062,     0.94047,     0.94031,     0.94016,        0.94,     0.93985,     0.93969,     0.93954,\n",
       "            0.93939,     0.93923,     0.93908,     0.93892,     0.93877,     0.93861,     0.93846,      0.9383,     0.93815,     0.93799,     0.93784,     0.93768,     0.93753,     0.93738,     0.93722,     0.93707,     0.93691,     0.93676,      0.9366,     0.93645,     0.93629,     0.93614,     0.93598,\n",
       "            0.93583,     0.93567,     0.93552,     0.93537,     0.93521,     0.93506,      0.9349,     0.93475,     0.93459,     0.93444,     0.93428,     0.93413,     0.93397,     0.93382,     0.93366,     0.93351,     0.93336,      0.9332,     0.93305,     0.93289,     0.93274,     0.93258,     0.93243,\n",
       "            0.93227,     0.93212,     0.93196,     0.93181,     0.93165,      0.9315,     0.93135,     0.93119,     0.93104,     0.93088,     0.93073,     0.93057,     0.93042,     0.93026,     0.93011,     0.92995,      0.9298,     0.92964,     0.92949,     0.92934,     0.92918,     0.92903,     0.92887,\n",
       "            0.92872,     0.92856,     0.92841,     0.92825,      0.9281,     0.92794,     0.92779,     0.92763,     0.92748,     0.92733,     0.92717,     0.92702,     0.92686,     0.92671,     0.92655,      0.9264,     0.92624,     0.92609,     0.92593,     0.92578,     0.92562,     0.92547,     0.92532,\n",
       "            0.92516,     0.92501,     0.92485,      0.9247,     0.92454,     0.92439,     0.92423,     0.92408,     0.92392,     0.92377,     0.92361,     0.92346,     0.92331,     0.92315,     0.92308,     0.92308,     0.92308,     0.92308,     0.92308,     0.92308,     0.92308,     0.92308,     0.92308,\n",
       "            0.92308,     0.92308,     0.92308,     0.92308,     0.92308,     0.92308,     0.92308,     0.92308,     0.92308,     0.92308,     0.92308,     0.92308,     0.92308,     0.92308,     0.92308,     0.92308,     0.92308,     0.92308,     0.92308,     0.92308,     0.92308,     0.92308,     0.92308,\n",
       "            0.92308,     0.92308,     0.92308,     0.92308,     0.92308,     0.92308,     0.92308,     0.92308,     0.92308,     0.92308,     0.92308,     0.92308,     0.92308,     0.92308,     0.92308,     0.92308,     0.92308,     0.92308,     0.92308,     0.92308,     0.92308,     0.92308,     0.92308,\n",
       "            0.92308,     0.92308,     0.92308,     0.92308,     0.92308,     0.92308,     0.92308,     0.92308,     0.92308,     0.92308,     0.92308,     0.92308,     0.92308,     0.92308,     0.92308,     0.92308,     0.92308,     0.92308,     0.92308,     0.92308,     0.92308,     0.92308,     0.92308,\n",
       "            0.92308,     0.92308,     0.92308,     0.92308,     0.92308,     0.92308,     0.92308,     0.92308,     0.92308,     0.92308,     0.92308,     0.92308,     0.92308,     0.92308,     0.92308,     0.92308,     0.92308,     0.92308,     0.92308,     0.92308,     0.92308,     0.92308,     0.92308,\n",
       "            0.92308,     0.92308,     0.92308,     0.92308,     0.92308,     0.92308,     0.92308,     0.92308,     0.92308,     0.92308,     0.92308,     0.92308,     0.92308,     0.92308,     0.92308,     0.92308,     0.92308,     0.92308,     0.92308,     0.92308,     0.92308,     0.92308,     0.92308,\n",
       "            0.92308,     0.92308,     0.92308,     0.92308,     0.92308,     0.92308,     0.92308,     0.92308,     0.92308,     0.92308,     0.92308,     0.92308,     0.92308,     0.92308,     0.92308,     0.92308,     0.92308,     0.92308,     0.92308,     0.92308,     0.92308,     0.92308,     0.92308,\n",
       "            0.92308,     0.92308,     0.92308,     0.92308,     0.92308,     0.92308,     0.92308,     0.92308,     0.92308,     0.92308,     0.92308,     0.92308,     0.92308,     0.92308,     0.92308,     0.92308,     0.92308,     0.92308,     0.92308,     0.91767,     0.87819,      0.8454,     0.84139,\n",
       "            0.83738,     0.83338,     0.82937,     0.82536,     0.82136,     0.81735,     0.81334,     0.80934,     0.80533,     0.80133,     0.79732,     0.79331,     0.78931,      0.7853,     0.78129,     0.77729,     0.77328,     0.76927,     0.75907,     0.74881,     0.73855,     0.72828,     0.71802,\n",
       "            0.70776,      0.6975,     0.61361,     0.60956,     0.60551,     0.60146,     0.59741,     0.59335,      0.5893,     0.58525,      0.5812,     0.57715,      0.5731,     0.56904,     0.56499,     0.56094,     0.55689,     0.55284,     0.54878,     0.54473,     0.54068,     0.50455,     0.45284,\n",
       "            0.43243,     0.41202,     0.39161,     0.38223,     0.37859,     0.37496,     0.37133,      0.3677,     0.36407,     0.36043,      0.3568,     0.35317,     0.34954,      0.3459,     0.34227,     0.33864,     0.33501,     0.33137,     0.32774,     0.32411,     0.32048,     0.31684,     0.31321,\n",
       "            0.30958,      0.2907,     0.25533,      0.2141,     0.15952,     0.15139,     0.14864,      0.1459,     0.14315,     0.14041,     0.13766,     0.13492,     0.13217,     0.12943,     0.12668,     0.12394,     0.12119,     0.11845,      0.1157,     0.11296,     0.11022,     0.10747,     0.10473,\n",
       "            0.10198,    0.099236,    0.096491,    0.093746,    0.091002,    0.088257,    0.085512,    0.082767,    0.080022,    0.077278,           0]]), 'Confidence', 'Recall']]\n",
       "fitness: np.float64(0.8529638521558442)\n",
       "keys: ['metrics/precision(B)', 'metrics/recall(B)', 'metrics/mAP50(B)', 'metrics/mAP50-95(B)']\n",
       "maps: array([    0.83774])\n",
       "names: {0: 'Speed Limit Signs'}\n",
       "plot: True\n",
       "results_dict: {'metrics/precision(B)': np.float64(0.9282286689273481), 'metrics/recall(B)': np.float64(0.9952013649828735), 'metrics/mAP50(B)': np.float64(0.9900000000000002), 'metrics/mAP50-95(B)': np.float64(0.8377376135064936), 'fitness': np.float64(0.8529638521558442)}\n",
       "save_dir: WindowsPath('runs/detect/train6')\n",
       "speed: {'preprocess': 10.840562673715445, 'inference': 173.60030687772309, 'loss': 0.0, 'postprocess': 28.6101928124061}\n",
       "task: 'detect'"
      ]
     },
     "execution_count": 3,
     "metadata": {},
     "output_type": "execute_result"
    }
   ],
   "source": [
    "\n",
    "\n",
    "# Load the YOLO model\n",
    "model = YOLO(\"yolov8n.pt\")  # Use a pre-trained YOLOv8n model\n",
    "\n",
    "# Train the model\n",
    "model.train(data=f\"{dataset.location}/data.yaml\", epochs=10, imgsz=640)"
   ]
  },
  {
   "cell_type": "code",
   "execution_count": 5,
   "id": "36fd0909-03e5-483d-841a-e539ce589344",
   "metadata": {},
   "outputs": [
    {
     "name": "stdout",
     "output_type": "stream",
     "text": [
      "\n",
      "image 1/1 C:\\Users\\zchal\\Desktop\\TestSpeedLimitData\\depositphotos_31233169-stock-photo-speed-limit-sign.jpg: 448x640 1 Speed Limit Signs, 149.9ms\n",
      "Speed: 9.0ms preprocess, 149.9ms inference, 1.8ms postprocess per image at shape (1, 3, 448, 640)\n",
      "\n",
      "image 1/1 C:\\Users\\zchal\\Desktop\\TestSpeedLimitData\\images (1).jpg: 448x640 1 Speed Limit Signs, 185.2ms\n",
      "Speed: 1.6ms preprocess, 185.2ms inference, 0.0ms postprocess per image at shape (1, 3, 448, 640)\n",
      "\n",
      "image 1/1 C:\\Users\\zchal\\Desktop\\TestSpeedLimitData\\images (2).jpg: 384x640 1 Speed Limit Signs, 162.3ms\n",
      "Speed: 6.2ms preprocess, 162.3ms inference, 0.0ms postprocess per image at shape (1, 3, 384, 640)\n",
      "\n",
      "image 1/1 C:\\Users\\zchal\\Desktop\\TestSpeedLimitData\\images.jpg: 288x640 2 Speed Limit Signss, 138.7ms\n",
      "Speed: 8.7ms preprocess, 138.7ms inference, 0.0ms postprocess per image at shape (1, 3, 288, 640)\n",
      "\n",
      "image 1/1 C:\\Users\\zchal\\Desktop\\TestSpeedLimitData\\maxresdefault.jpg: 384x640 1 Speed Limit Signs, 134.2ms\n",
      "Speed: 4.4ms preprocess, 134.2ms inference, 0.0ms postprocess per image at shape (1, 3, 384, 640)\n",
      "Finished displaying all images.\n"
     ]
    }
   ],
   "source": [
    "\n",
    "# Step 1: Load your trained YOLO model\n",
    "\n",
    "\n",
    "# Step 2: Define the folder containing test images\n",
    "image_folder = \"Desktop/TestSpeedLimitData\"  # Replace with the folder path\n",
    "image_paths = [os.path.join(image_folder, img) for img in os.listdir(image_folder) if img.endswith(('.jpg', '.png', '.jpeg'))]\n",
    "\n",
    "# Step 3: Loop through each image, make predictions, and display results\n",
    "for image_path in image_paths:\n",
    "    # Run prediction on the current image\n",
    "    results = model.predict(source=image_path, imgsz=640, conf=0.25, show=False)  # Disable built-in YOLOv8 display\n",
    "\n",
    "    # Load the processed image with predictions drawn\n",
    "    predicted_image = results[0].plot()  # results[0] is the first result in the batch; `.plot()` draws bounding boxes\n",
    "    \n",
    "    # Display the image in an OpenCV window\n",
    "    cv2.imshow(\"YOLO Predictions\", predicted_image)\n",
    "    \n",
    "    # Wait for a key press, then close the window\n",
    "    key = cv2.waitKey(0)  # Wait indefinitely until a key is pressed\n",
    "    if key == 27:  # If 'ESC' key is pressed, exit early\n",
    "        print(\"Exiting...\")\n",
    "        break\n",
    "\n",
    "    # Close the window before moving to the next image\n",
    "   \n",
    "\n",
    "print(\"Finished displaying all images.\")"
   ]
  },
  {
   "cell_type": "code",
   "execution_count": 21,
   "id": "86f482c6-cb69-4796-b888-959f689902d1",
   "metadata": {},
   "outputs": [
    {
     "name": "stdout",
     "output_type": "stream",
     "text": [
      "\n",
      "0: 384x640 1 Speed Limit Signs, 167.2ms\n",
      "Speed: 11.5ms preprocess, 167.2ms inference, 0.0ms postprocess per image at shape (1, 3, 384, 640)\n"
     ]
    }
   ],
   "source": [
    "screenshot = pyautogui.screenshot()\n",
    "\n",
    "    # Step 3: Convert the screenshot to a NumPy array (Pillow to NumPy)\n",
    "screenshot_np = np.array(screenshot)\n",
    "\n",
    "    # Step 4: Convert RGB (Pillow) to BGR (OpenCV)\n",
    "screenshot_bgr = cv2.cvtColor(screenshot_np, cv2.COLOR_RGB2BGR)\n",
    "\n",
    "    # Step 5: Run inference on the screenshot\n",
    "results = model.predict(source=screenshot_bgr, imgsz=640, conf=0.25, show=False)\n",
    "\n",
    "    # Step 6: Get the processed image with predictions (bounding boxes drawn)\n",
    "predicted_image = results[0].plot()  # results[0] contains the processed image\n",
    "\n",
    "    # Step 7: Display the predicted image with bounding boxes\n",
    "cv2.imshow(\"YOLO Predictions\", predicted_image)\n",
    "\n",
    "    # Step 8: Wait for a key press, then close the window or continue\n",
    "key = cv2.waitKey(0)  # You can reduce the wait time to run faster (1ms)\n",
    "\n",
    "cv2.destroyAllWindows()"
   ]
  },
  {
   "cell_type": "code",
   "execution_count": null,
   "id": "56b7ce99-bb98-48f9-ac6a-01ec63f1f263",
   "metadata": {},
   "outputs": [],
   "source": []
  }
 ],
 "metadata": {
  "kernelspec": {
   "display_name": "Python 3 (ipykernel)",
   "language": "python",
   "name": "python3"
  },
  "language_info": {
   "codemirror_mode": {
    "name": "ipython",
    "version": 3
   },
   "file_extension": ".py",
   "mimetype": "text/x-python",
   "name": "python",
   "nbconvert_exporter": "python",
   "pygments_lexer": "ipython3",
   "version": "3.12.8"
  }
 },
 "nbformat": 4,
 "nbformat_minor": 5
}
